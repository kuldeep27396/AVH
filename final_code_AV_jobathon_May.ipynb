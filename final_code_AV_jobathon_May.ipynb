{
  "nbformat": 4,
  "nbformat_minor": 0,
  "metadata": {
    "colab": {
      "name": "final_code_AV_jobathon_May.ipynb",
      "provenance": [],
      "collapsed_sections": []
    },
    "kernelspec": {
      "display_name": "Python 3",
      "name": "python3"
    },
    "language_info": {
      "name": "python"
    }
  },
  "cells": [
    {
      "cell_type": "markdown",
      "metadata": {
        "id": "-OF6Cr2c1AKo"
      },
      "source": [
        "#  1.**Getting the data files in dataframe**"
      ]
    },
    {
      "cell_type": "code",
      "metadata": {
        "colab": {
          "base_uri": "https://localhost:8080/",
          "height": 204
        },
        "id": "QmDctaqQx5YI",
        "outputId": "153e74ff-5869-4a01-ad25-319ba3b96d9e"
      },
      "source": [
        "import pandas as pd\n",
        "import seaborn as sns\n",
        "import matplotlib.pyplot as plt\n",
        "train = pd.read_csv('https://raw.githubusercontent.com/kuldeep27396/AVH/main/train-file.csv')\n",
        "train.head()"
      ],
      "execution_count": 19,
      "outputs": [
        {
          "output_type": "execute_result",
          "data": {
            "text/html": [
              "<div>\n",
              "<style scoped>\n",
              "    .dataframe tbody tr th:only-of-type {\n",
              "        vertical-align: middle;\n",
              "    }\n",
              "\n",
              "    .dataframe tbody tr th {\n",
              "        vertical-align: top;\n",
              "    }\n",
              "\n",
              "    .dataframe thead th {\n",
              "        text-align: right;\n",
              "    }\n",
              "</style>\n",
              "<table border=\"1\" class=\"dataframe\">\n",
              "  <thead>\n",
              "    <tr style=\"text-align: right;\">\n",
              "      <th></th>\n",
              "      <th>ID</th>\n",
              "      <th>Gender</th>\n",
              "      <th>Age</th>\n",
              "      <th>Region_Code</th>\n",
              "      <th>Occupation</th>\n",
              "      <th>Channel_Code</th>\n",
              "      <th>Vintage</th>\n",
              "      <th>Credit_Product</th>\n",
              "      <th>Avg_Account_Balance</th>\n",
              "      <th>Is_Active</th>\n",
              "      <th>Is_Lead</th>\n",
              "    </tr>\n",
              "  </thead>\n",
              "  <tbody>\n",
              "    <tr>\n",
              "      <th>0</th>\n",
              "      <td>NNVBBKZB</td>\n",
              "      <td>Female</td>\n",
              "      <td>73</td>\n",
              "      <td>RG268</td>\n",
              "      <td>Other</td>\n",
              "      <td>X3</td>\n",
              "      <td>43</td>\n",
              "      <td>No</td>\n",
              "      <td>1045696</td>\n",
              "      <td>No</td>\n",
              "      <td>0</td>\n",
              "    </tr>\n",
              "    <tr>\n",
              "      <th>1</th>\n",
              "      <td>IDD62UNG</td>\n",
              "      <td>Female</td>\n",
              "      <td>30</td>\n",
              "      <td>RG277</td>\n",
              "      <td>Salaried</td>\n",
              "      <td>X1</td>\n",
              "      <td>32</td>\n",
              "      <td>No</td>\n",
              "      <td>581988</td>\n",
              "      <td>No</td>\n",
              "      <td>0</td>\n",
              "    </tr>\n",
              "    <tr>\n",
              "      <th>2</th>\n",
              "      <td>HD3DSEMC</td>\n",
              "      <td>Female</td>\n",
              "      <td>56</td>\n",
              "      <td>RG268</td>\n",
              "      <td>Self_Employed</td>\n",
              "      <td>X3</td>\n",
              "      <td>26</td>\n",
              "      <td>No</td>\n",
              "      <td>1484315</td>\n",
              "      <td>Yes</td>\n",
              "      <td>0</td>\n",
              "    </tr>\n",
              "    <tr>\n",
              "      <th>3</th>\n",
              "      <td>BF3NC7KV</td>\n",
              "      <td>Male</td>\n",
              "      <td>34</td>\n",
              "      <td>RG270</td>\n",
              "      <td>Salaried</td>\n",
              "      <td>X1</td>\n",
              "      <td>19</td>\n",
              "      <td>No</td>\n",
              "      <td>470454</td>\n",
              "      <td>No</td>\n",
              "      <td>0</td>\n",
              "    </tr>\n",
              "    <tr>\n",
              "      <th>4</th>\n",
              "      <td>TEASRWXV</td>\n",
              "      <td>Female</td>\n",
              "      <td>30</td>\n",
              "      <td>RG282</td>\n",
              "      <td>Salaried</td>\n",
              "      <td>X1</td>\n",
              "      <td>33</td>\n",
              "      <td>No</td>\n",
              "      <td>886787</td>\n",
              "      <td>No</td>\n",
              "      <td>0</td>\n",
              "    </tr>\n",
              "  </tbody>\n",
              "</table>\n",
              "</div>"
            ],
            "text/plain": [
              "         ID  Gender  Age  ... Avg_Account_Balance Is_Active Is_Lead\n",
              "0  NNVBBKZB  Female   73  ...             1045696        No       0\n",
              "1  IDD62UNG  Female   30  ...              581988        No       0\n",
              "2  HD3DSEMC  Female   56  ...             1484315       Yes       0\n",
              "3  BF3NC7KV    Male   34  ...              470454        No       0\n",
              "4  TEASRWXV  Female   30  ...              886787        No       0\n",
              "\n",
              "[5 rows x 11 columns]"
            ]
          },
          "metadata": {
            "tags": []
          },
          "execution_count": 19
        }
      ]
    },
    {
      "cell_type": "code",
      "metadata": {
        "colab": {
          "base_uri": "https://localhost:8080/",
          "height": 204
        },
        "id": "dPBrL-ytyfxL",
        "outputId": "79ac829b-7906-4046-a554-37106b4baae1"
      },
      "source": [
        "test = pd.read_csv('https://raw.githubusercontent.com/kuldeep27396/AVH/main/test-file.csv')\n",
        "test.head()"
      ],
      "execution_count": 20,
      "outputs": [
        {
          "output_type": "execute_result",
          "data": {
            "text/html": [
              "<div>\n",
              "<style scoped>\n",
              "    .dataframe tbody tr th:only-of-type {\n",
              "        vertical-align: middle;\n",
              "    }\n",
              "\n",
              "    .dataframe tbody tr th {\n",
              "        vertical-align: top;\n",
              "    }\n",
              "\n",
              "    .dataframe thead th {\n",
              "        text-align: right;\n",
              "    }\n",
              "</style>\n",
              "<table border=\"1\" class=\"dataframe\">\n",
              "  <thead>\n",
              "    <tr style=\"text-align: right;\">\n",
              "      <th></th>\n",
              "      <th>ID</th>\n",
              "      <th>Gender</th>\n",
              "      <th>Age</th>\n",
              "      <th>Region_Code</th>\n",
              "      <th>Occupation</th>\n",
              "      <th>Channel_Code</th>\n",
              "      <th>Vintage</th>\n",
              "      <th>Credit_Product</th>\n",
              "      <th>Avg_Account_Balance</th>\n",
              "      <th>Is_Active</th>\n",
              "    </tr>\n",
              "  </thead>\n",
              "  <tbody>\n",
              "    <tr>\n",
              "      <th>0</th>\n",
              "      <td>VBENBARO</td>\n",
              "      <td>Male</td>\n",
              "      <td>29</td>\n",
              "      <td>RG254</td>\n",
              "      <td>Other</td>\n",
              "      <td>X1</td>\n",
              "      <td>25</td>\n",
              "      <td>Yes</td>\n",
              "      <td>742366</td>\n",
              "      <td>No</td>\n",
              "    </tr>\n",
              "    <tr>\n",
              "      <th>1</th>\n",
              "      <td>CCMEWNKY</td>\n",
              "      <td>Male</td>\n",
              "      <td>43</td>\n",
              "      <td>RG268</td>\n",
              "      <td>Other</td>\n",
              "      <td>X2</td>\n",
              "      <td>49</td>\n",
              "      <td>NaN</td>\n",
              "      <td>925537</td>\n",
              "      <td>No</td>\n",
              "    </tr>\n",
              "    <tr>\n",
              "      <th>2</th>\n",
              "      <td>VK3KGA9M</td>\n",
              "      <td>Male</td>\n",
              "      <td>31</td>\n",
              "      <td>RG270</td>\n",
              "      <td>Salaried</td>\n",
              "      <td>X1</td>\n",
              "      <td>14</td>\n",
              "      <td>No</td>\n",
              "      <td>215949</td>\n",
              "      <td>No</td>\n",
              "    </tr>\n",
              "    <tr>\n",
              "      <th>3</th>\n",
              "      <td>TT8RPZVC</td>\n",
              "      <td>Male</td>\n",
              "      <td>29</td>\n",
              "      <td>RG272</td>\n",
              "      <td>Other</td>\n",
              "      <td>X1</td>\n",
              "      <td>33</td>\n",
              "      <td>No</td>\n",
              "      <td>868070</td>\n",
              "      <td>No</td>\n",
              "    </tr>\n",
              "    <tr>\n",
              "      <th>4</th>\n",
              "      <td>SHQZEYTZ</td>\n",
              "      <td>Female</td>\n",
              "      <td>29</td>\n",
              "      <td>RG270</td>\n",
              "      <td>Other</td>\n",
              "      <td>X1</td>\n",
              "      <td>19</td>\n",
              "      <td>No</td>\n",
              "      <td>657087</td>\n",
              "      <td>No</td>\n",
              "    </tr>\n",
              "  </tbody>\n",
              "</table>\n",
              "</div>"
            ],
            "text/plain": [
              "         ID  Gender  Age  ... Credit_Product Avg_Account_Balance Is_Active\n",
              "0  VBENBARO    Male   29  ...            Yes              742366        No\n",
              "1  CCMEWNKY    Male   43  ...            NaN              925537        No\n",
              "2  VK3KGA9M    Male   31  ...             No              215949        No\n",
              "3  TT8RPZVC    Male   29  ...             No              868070        No\n",
              "4  SHQZEYTZ  Female   29  ...             No              657087        No\n",
              "\n",
              "[5 rows x 10 columns]"
            ]
          },
          "metadata": {
            "tags": []
          },
          "execution_count": 20
        }
      ]
    },
    {
      "cell_type": "code",
      "metadata": {
        "id": "QVvg6uwpjM5X"
      },
      "source": [
        "#copied train df to ff\n",
        "ff= train.copy()"
      ],
      "execution_count": 21,
      "outputs": []
    },
    {
      "cell_type": "code",
      "metadata": {
        "id": "szDYCSS-ZcVj"
      },
      "source": [
        "#copied test df to ff\n",
        "gg = test.copy()"
      ],
      "execution_count": 22,
      "outputs": []
    },
    {
      "cell_type": "markdown",
      "metadata": {
        "id": "prGms62aQZ44"
      },
      "source": [
        "# EDA"
      ]
    },
    {
      "cell_type": "code",
      "metadata": {
        "colab": {
          "base_uri": "https://localhost:8080/",
          "height": 481
        },
        "id": "NipT96x7QY1M",
        "outputId": "7f9ba241-3c0b-479e-c59a-0b08ee48561e"
      },
      "source": [
        "sns.countplot(train['Occupation']).tick_params(axis='x', rotation = 90)\n",
        "plt.title('Occupation')\n",
        "plt.show()"
      ],
      "execution_count": 23,
      "outputs": [
        {
          "output_type": "stream",
          "text": [
            "/usr/local/lib/python3.7/dist-packages/seaborn/_decorators.py:43: FutureWarning: Pass the following variable as a keyword arg: x. From version 0.12, the only valid positional argument will be `data`, and passing other arguments without an explicit keyword will result in an error or misinterpretation.\n",
            "  FutureWarning\n"
          ],
          "name": "stderr"
        },
        {
          "output_type": "display_data",
          "data": {
            "image/png": "[encoded data removed]",
            "text/plain": [
              "<Figure size 864x360 with 1 Axes>"
            ]
          },
          "metadata": {
            "tags": []
          }
        }
      ]
    },
    {
      "cell_type": "code",
      "metadata": {
        "colab": {
          "base_uri": "https://localhost:8080/",
          "height": 413
        },
        "id": "73DctLSCQfW1",
        "outputId": "922ac98e-4720-424b-8f08-0a1b2dcc9c4c"
      },
      "source": [
        "sns.set(rc={'figure.figsize':(12,5)})\n",
        "sns.countplot(ff['Age']).tick_params(axis='x', rotation = 90)\n",
        "plt.title('Age')\n",
        "plt.show()"
      ],
      "execution_count": 24,
      "outputs": [
        {
          "output_type": "stream",
          "text": [
            "/usr/local/lib/python3.7/dist-packages/seaborn/_decorators.py:43: FutureWarning: Pass the following variable as a keyword arg: x. From version 0.12, the only valid positional argument will be `data`, and passing other arguments without an explicit keyword will result in an error or misinterpretation.\n",
            "  FutureWarning\n"
          ],
          "name": "stderr"
        },
        {
          "output_type": "display_data",
          "data": {
            "image/png": "[encoded data removed]",
            "text/plain": [
              "<Figure size 864x360 with 1 Axes>"
            ]
          },
          "metadata": {
            "tags": []
          }
        }
      ]
    },
    {
      "cell_type": "code",
      "metadata": {
        "colab": {
          "base_uri": "https://localhost:8080/",
          "height": 327
        },
        "id": "ihZHSyNdQyJx",
        "outputId": "164b1d68-04df-42a8-b820-7ead5fae863d"
      },
      "source": [
        "# To check the correlation among varibles\n",
        "plt.figure(figsize=(10,5))\n",
        "sns.heatmap(ff.corr())\n",
        "plt.show()"
      ],
      "execution_count": 25,
      "outputs": [
        {
          "output_type": "display_data",
          "data": {
            "image/png": "[encoded data removed]",
            "text/plain": [
              "<Figure size 720x360 with 2 Axes>"
            ]
          },
          "metadata": {
            "tags": []
          }
        }
      ]
    },
    {
      "cell_type": "code",
      "metadata": {
        "colab": {
          "base_uri": "https://localhost:8080/",
          "height": 335
        },
        "id": "1TanYlKsg6AI",
        "outputId": "cb409cb0-3f4e-415e-e679-d45a7e017692"
      },
      "source": [
        "ax = sns.boxplot(data=ff, orient=\"h\", palette=\"Set2\")"
      ],
      "execution_count": 26,
      "outputs": [
        {
          "output_type": "display_data",
          "data": {
            "image/png": "[encoded data removed]",
            "text/plain": [
              "<Figure size 864x360 with 1 Axes>"
            ]
          },
          "metadata": {
            "tags": []
          }
        }
      ]
    },
    {
      "cell_type": "markdown",
      "metadata": {
        "id": "3hZTr5ojgbtv"
      },
      "source": [
        "# 2.**Train Data Preprocessing**"
      ]
    },
    {
      "cell_type": "markdown",
      "metadata": {
        "id": "WcX_3LxK1pVy"
      },
      "source": [
        "\n",
        "\n",
        "*   Converted **Credit_Product,Gender, Is_Active** to binary\n",
        "*   Encoded **Occupation, Channel_code** to numeric\n",
        "*   **Dropped ID from train as it has no corelation with our target**\n",
        "\n"
      ]
    },
    {
      "cell_type": "code",
      "metadata": {
        "id": "3OHjBRZkjQ_b"
      },
      "source": [
        "import numpy as np\n",
        "ff.replace(to_replace = np.nan, value =5, inplace =True) #replaced all Nan values to 5(selected random as it will not coincide with other variable)\n",
        "ff['Credit_Product']=np.where(ff['Credit_Product']=='No',0,ff['Credit_Product'])\n",
        "ff['Credit_Product']=np.where(ff['Credit_Product']=='Yes',1,ff['Credit_Product'])\n",
        "\n",
        "ff['Is_Active'] = ff['Is_Active'].map({'Yes': 1, 'No': 0})\n",
        "ff['Gender'] = ff['Gender'].map({'Male': 1, 'Female': 0})\n",
        "ff['Occupation'] = ff['Occupation'].map({'Other': 0, 'Salaried': 1, 'Self_Employed': 2, 'Entrepreneur': 3})\n",
        "ff['Channel_Code'] = ff['Channel_Code'].map({'X1': 0, 'X2': 1, 'X3': 2, 'X4': 3})\n",
        "ff.drop(['ID'],axis =1, inplace = True)"
      ],
      "execution_count": 27,
      "outputs": []
    },
    {
      "cell_type": "markdown",
      "metadata": {
        "id": "lC1t6CtE2rwE"
      },
      "source": [
        "Encode labels in column 'Region_Code'"
      ]
    },
    {
      "cell_type": "code",
      "metadata": {
        "colab": {
          "base_uri": "https://localhost:8080/"
        },
        "id": "eUtbXAU0GPxr",
        "outputId": "f91c0231-56e2-498c-cb6f-be8cbd856ee0"
      },
      "source": [
        "# Import label encoder\n",
        "from sklearn import preprocessing\n",
        "\n",
        "# label_encoder object knows how to understand word labels.\n",
        "label_encoder = preprocessing.LabelEncoder()\n",
        "\n",
        "# Encode labels in column 'Region_Code'.\n",
        "ff['Region_Code']= label_encoder.fit_transform(ff['Region_Code'])\n",
        "\n",
        "ff['Region_Code'].unique()\n"
      ],
      "execution_count": 28,
      "outputs": [
        {
          "output_type": "execute_result",
          "data": {
            "text/plain": [
              "array([18, 27, 20, 32, 11, 15, 33,  4, 19,  7, 29, 30,  2, 34,  9, 31,  8,\n",
              "       16, 10, 24,  6, 25, 23, 17, 22,  1, 12, 14, 28, 26, 13,  0,  5,  3,\n",
              "       21])"
            ]
          },
          "metadata": {
            "tags": []
          },
          "execution_count": 28
        }
      ]
    },
    {
      "cell_type": "code",
      "metadata": {
        "id": "m7r0NrH93dVF"
      },
      "source": [
        ""
      ],
      "execution_count": 28,
      "outputs": []
    },
    {
      "cell_type": "markdown",
      "metadata": {
        "id": "4Vx-s7Fb37B7"
      },
      "source": [
        "Avg_Account_Balance have outliers as shown in the image, I have done label encoding and also removed outliers as shown below."
      ]
    },
    {
      "cell_type": "markdown",
      "metadata": {
        "id": "9xx-ZVN022aw"
      },
      "source": [
        "Encode labels in column 'Avg_Account_Balance'"
      ]
    },
    {
      "cell_type": "code",
      "metadata": {
        "colab": {
          "base_uri": "https://localhost:8080/"
        },
        "id": "AzjHnMxmIOnV",
        "outputId": "5bf46ab6-3bd0-4817-8c4e-208c5cca0257"
      },
      "source": [
        "# Import label encoder\n",
        "from sklearn import preprocessing\n",
        "\n",
        "# label_encoder object knows how to understand word labels.\n",
        "label_encoder = preprocessing.LabelEncoder()\n",
        "\n",
        "# Encode labels in column 'Avg_Account_Balance'.\n",
        "ff['Avg_Account_Balance']= label_encoder.fit_transform(ff['Avg_Account_Balance'])\n",
        "\n",
        "ff['Avg_Account_Balance'].unique()"
      ],
      "execution_count": 29,
      "outputs": [
        {
          "output_type": "execute_result",
          "data": {
            "text/plain": [
              "array([ 69898,  28951,  96873, ...,   9819, 112817,  76068])"
            ]
          },
          "metadata": {
            "tags": []
          },
          "execution_count": 29
        }
      ]
    },
    {
      "cell_type": "code",
      "metadata": {
        "id": "bhh-snjqpEY2"
      },
      "source": [
        "#import re\n",
        "#replace = re.compile(\"([a-zA-Z]+)\")\n",
        "#ff['Region_Code'] = ff['Region_Code'].astype(str).replace(replace, \"\")"
      ],
      "execution_count": 30,
      "outputs": []
    },
    {
      "cell_type": "code",
      "metadata": {
        "colab": {
          "base_uri": "https://localhost:8080/",
          "height": 204
        },
        "id": "9aDW8OdhAC0z",
        "outputId": "dc59cff7-c2ea-4314-f4e8-bc6fe9185613"
      },
      "source": [
        "#get the dataframe after transformation\n",
        "ff.head()"
      ],
      "execution_count": 31,
      "outputs": [
        {
          "output_type": "execute_result",
          "data": {
            "text/html": [
              "<div>\n",
              "<style scoped>\n",
              "    .dataframe tbody tr th:only-of-type {\n",
              "        vertical-align: middle;\n",
              "    }\n",
              "\n",
              "    .dataframe tbody tr th {\n",
              "        vertical-align: top;\n",
              "    }\n",
              "\n",
              "    .dataframe thead th {\n",
              "        text-align: right;\n",
              "    }\n",
              "</style>\n",
              "<table border=\"1\" class=\"dataframe\">\n",
              "  <thead>\n",
              "    <tr style=\"text-align: right;\">\n",
              "      <th></th>\n",
              "      <th>Gender</th>\n",
              "      <th>Age</th>\n",
              "      <th>Region_Code</th>\n",
              "      <th>Occupation</th>\n",
              "      <th>Channel_Code</th>\n",
              "      <th>Vintage</th>\n",
              "      <th>Credit_Product</th>\n",
              "      <th>Avg_Account_Balance</th>\n",
              "      <th>Is_Active</th>\n",
              "      <th>Is_Lead</th>\n",
              "    </tr>\n",
              "  </thead>\n",
              "  <tbody>\n",
              "    <tr>\n",
              "      <th>0</th>\n",
              "      <td>0</td>\n",
              "      <td>73</td>\n",
              "      <td>18</td>\n",
              "      <td>0</td>\n",
              "      <td>2</td>\n",
              "      <td>43</td>\n",
              "      <td>0</td>\n",
              "      <td>69898</td>\n",
              "      <td>0</td>\n",
              "      <td>0</td>\n",
              "    </tr>\n",
              "    <tr>\n",
              "      <th>1</th>\n",
              "      <td>0</td>\n",
              "      <td>30</td>\n",
              "      <td>27</td>\n",
              "      <td>1</td>\n",
              "      <td>0</td>\n",
              "      <td>32</td>\n",
              "      <td>0</td>\n",
              "      <td>28951</td>\n",
              "      <td>0</td>\n",
              "      <td>0</td>\n",
              "    </tr>\n",
              "    <tr>\n",
              "      <th>2</th>\n",
              "      <td>0</td>\n",
              "      <td>56</td>\n",
              "      <td>18</td>\n",
              "      <td>2</td>\n",
              "      <td>2</td>\n",
              "      <td>26</td>\n",
              "      <td>0</td>\n",
              "      <td>96873</td>\n",
              "      <td>1</td>\n",
              "      <td>0</td>\n",
              "    </tr>\n",
              "    <tr>\n",
              "      <th>3</th>\n",
              "      <td>1</td>\n",
              "      <td>34</td>\n",
              "      <td>20</td>\n",
              "      <td>1</td>\n",
              "      <td>0</td>\n",
              "      <td>19</td>\n",
              "      <td>0</td>\n",
              "      <td>18490</td>\n",
              "      <td>0</td>\n",
              "      <td>0</td>\n",
              "    </tr>\n",
              "    <tr>\n",
              "      <th>4</th>\n",
              "      <td>0</td>\n",
              "      <td>30</td>\n",
              "      <td>32</td>\n",
              "      <td>1</td>\n",
              "      <td>0</td>\n",
              "      <td>33</td>\n",
              "      <td>0</td>\n",
              "      <td>57050</td>\n",
              "      <td>0</td>\n",
              "      <td>0</td>\n",
              "    </tr>\n",
              "  </tbody>\n",
              "</table>\n",
              "</div>"
            ],
            "text/plain": [
              "   Gender  Age  Region_Code  ...  Avg_Account_Balance  Is_Active  Is_Lead\n",
              "0       0   73           18  ...                69898          0        0\n",
              "1       0   30           27  ...                28951          0        0\n",
              "2       0   56           18  ...                96873          1        0\n",
              "3       1   34           20  ...                18490          0        0\n",
              "4       0   30           32  ...                57050          0        0\n",
              "\n",
              "[5 rows x 10 columns]"
            ]
          },
          "metadata": {
            "tags": []
          },
          "execution_count": 31
        }
      ]
    },
    {
      "cell_type": "markdown",
      "metadata": {
        "id": "svYZqruq3f40"
      },
      "source": [
        "Removing outliers from Avg_Account_Balance"
      ]
    },
    {
      "cell_type": "code",
      "metadata": {
        "colab": {
          "base_uri": "https://localhost:8080/"
        },
        "id": "notr-bnvaUmS",
        "outputId": "ee161b0e-e139-4b4a-cb6b-16d8a86d19c3"
      },
      "source": [
        "# Importing\n",
        "import sklearn\n",
        "import pandas as pd\n",
        "\n",
        "# IQR\n",
        "Q1 = np.percentile(ff['Avg_Account_Balance'], 25,\n",
        "\t\t\t\tinterpolation = 'midpoint')\n",
        "\n",
        "Q3 = np.percentile(ff['Avg_Account_Balance'], 75,\n",
        "\t\t\t\tinterpolation = 'midpoint')\n",
        "IQR = Q3 - Q1\n",
        "\n",
        "print(\"Old Shape: \", ff.shape)\n",
        "\n",
        "# Upper bound\n",
        "upper = np.where(ff['Avg_Account_Balance'] >= (Q3+1.5*IQR))\n",
        "# Lower bound\n",
        "lower = np.where(ff['Avg_Account_Balance'] <= (Q1-1.5*IQR))\n",
        "\n",
        "''' Removing the Outliers '''\n",
        "ff.drop(upper[0], inplace = True)\n",
        "ff.drop(lower[0], inplace = True)\n",
        "\n",
        "print(\"New Shape: \", ff.shape)\n"
      ],
      "execution_count": 32,
      "outputs": [
        {
          "output_type": "stream",
          "text": [
            "Old Shape:  (245725, 10)\n",
            "New Shape:  (245725, 10)\n"
          ],
          "name": "stdout"
        }
      ]
    },
    {
      "cell_type": "code",
      "metadata": {
        "colab": {
          "base_uri": "https://localhost:8080/",
          "height": 322
        },
        "id": "PK-x1ZAe3ETq",
        "outputId": "b176406c-b1fb-48ab-a40d-7ae2d885d19c"
      },
      "source": [
        "ax = sns.boxplot(data=ff, orient=\"h\", palette=\"Set2\")"
      ],
      "execution_count": 33,
      "outputs": [
        {
          "output_type": "display_data",
          "data": {
            "image/png": "[encoded data removed]",
            "text/plain": [
              "<Figure size 864x360 with 1 Axes>"
            ]
          },
          "metadata": {
            "tags": []
          }
        }
      ]
    },
    {
      "cell_type": "code",
      "metadata": {
        "colab": {
          "base_uri": "https://localhost:8080/"
        },
        "id": "HKyi_TbccfEe",
        "outputId": "06a0785e-cc01-43ca-e3ba-c3be82266698"
      },
      "source": [
        "ff['Credit_Product'].value_counts()"
      ],
      "execution_count": 34,
      "outputs": [
        {
          "output_type": "execute_result",
          "data": {
            "text/plain": [
              "0    144357\n",
              "1     72043\n",
              "5     29325\n",
              "Name: Credit_Product, dtype: int64"
            ]
          },
          "metadata": {
            "tags": []
          },
          "execution_count": 34
        }
      ]
    },
    {
      "cell_type": "markdown",
      "metadata": {
        "id": "qUK0tZAAbOZa"
      },
      "source": [
        "# 3.Test data processing\n",
        "\n",
        "Everything will be same as train preprocessing"
      ]
    },
    {
      "cell_type": "code",
      "metadata": {
        "colab": {
          "base_uri": "https://localhost:8080/",
          "height": 204
        },
        "id": "RJvQKRNabw3T",
        "outputId": "32f08171-f256-4ca3-bd23-bb192d956a2b"
      },
      "source": [
        "gg.head()"
      ],
      "execution_count": 35,
      "outputs": [
        {
          "output_type": "execute_result",
          "data": {
            "text/html": [
              "<div>\n",
              "<style scoped>\n",
              "    .dataframe tbody tr th:only-of-type {\n",
              "        vertical-align: middle;\n",
              "    }\n",
              "\n",
              "    .dataframe tbody tr th {\n",
              "        vertical-align: top;\n",
              "    }\n",
              "\n",
              "    .dataframe thead th {\n",
              "        text-align: right;\n",
              "    }\n",
              "</style>\n",
              "<table border=\"1\" class=\"dataframe\">\n",
              "  <thead>\n",
              "    <tr style=\"text-align: right;\">\n",
              "      <th></th>\n",
              "      <th>ID</th>\n",
              "      <th>Gender</th>\n",
              "      <th>Age</th>\n",
              "      <th>Region_Code</th>\n",
              "      <th>Occupation</th>\n",
              "      <th>Channel_Code</th>\n",
              "      <th>Vintage</th>\n",
              "      <th>Credit_Product</th>\n",
              "      <th>Avg_Account_Balance</th>\n",
              "      <th>Is_Active</th>\n",
              "    </tr>\n",
              "  </thead>\n",
              "  <tbody>\n",
              "    <tr>\n",
              "      <th>0</th>\n",
              "      <td>VBENBARO</td>\n",
              "      <td>Male</td>\n",
              "      <td>29</td>\n",
              "      <td>RG254</td>\n",
              "      <td>Other</td>\n",
              "      <td>X1</td>\n",
              "      <td>25</td>\n",
              "      <td>Yes</td>\n",
              "      <td>742366</td>\n",
              "      <td>No</td>\n",
              "    </tr>\n",
              "    <tr>\n",
              "      <th>1</th>\n",
              "      <td>CCMEWNKY</td>\n",
              "      <td>Male</td>\n",
              "      <td>43</td>\n",
              "      <td>RG268</td>\n",
              "      <td>Other</td>\n",
              "      <td>X2</td>\n",
              "      <td>49</td>\n",
              "      <td>NaN</td>\n",
              "      <td>925537</td>\n",
              "      <td>No</td>\n",
              "    </tr>\n",
              "    <tr>\n",
              "      <th>2</th>\n",
              "      <td>VK3KGA9M</td>\n",
              "      <td>Male</td>\n",
              "      <td>31</td>\n",
              "      <td>RG270</td>\n",
              "      <td>Salaried</td>\n",
              "      <td>X1</td>\n",
              "      <td>14</td>\n",
              "      <td>No</td>\n",
              "      <td>215949</td>\n",
              "      <td>No</td>\n",
              "    </tr>\n",
              "    <tr>\n",
              "      <th>3</th>\n",
              "      <td>TT8RPZVC</td>\n",
              "      <td>Male</td>\n",
              "      <td>29</td>\n",
              "      <td>RG272</td>\n",
              "      <td>Other</td>\n",
              "      <td>X1</td>\n",
              "      <td>33</td>\n",
              "      <td>No</td>\n",
              "      <td>868070</td>\n",
              "      <td>No</td>\n",
              "    </tr>\n",
              "    <tr>\n",
              "      <th>4</th>\n",
              "      <td>SHQZEYTZ</td>\n",
              "      <td>Female</td>\n",
              "      <td>29</td>\n",
              "      <td>RG270</td>\n",
              "      <td>Other</td>\n",
              "      <td>X1</td>\n",
              "      <td>19</td>\n",
              "      <td>No</td>\n",
              "      <td>657087</td>\n",
              "      <td>No</td>\n",
              "    </tr>\n",
              "  </tbody>\n",
              "</table>\n",
              "</div>"
            ],
            "text/plain": [
              "         ID  Gender  Age  ... Credit_Product Avg_Account_Balance Is_Active\n",
              "0  VBENBARO    Male   29  ...            Yes              742366        No\n",
              "1  CCMEWNKY    Male   43  ...            NaN              925537        No\n",
              "2  VK3KGA9M    Male   31  ...             No              215949        No\n",
              "3  TT8RPZVC    Male   29  ...             No              868070        No\n",
              "4  SHQZEYTZ  Female   29  ...             No              657087        No\n",
              "\n",
              "[5 rows x 10 columns]"
            ]
          },
          "metadata": {
            "tags": []
          },
          "execution_count": 35
        }
      ]
    },
    {
      "cell_type": "code",
      "metadata": {
        "id": "yCouyi2bb0rh"
      },
      "source": [
        "gg.replace(to_replace = np.nan, value =5, inplace =True)\n",
        "gg['Credit_Product']=np.where(gg['Credit_Product']=='No',0,gg['Credit_Product'])\n",
        "gg['Credit_Product']=np.where(gg['Credit_Product']=='Yes',1,gg['Credit_Product'])\n",
        "\n",
        "gg['Channel_Code'] = gg['Channel_Code'].map({'X1': 0, 'X2': 1, 'X3': 2, 'X4': 3})\n",
        "\n",
        "gg['Gender'] = gg['Gender'].map({'Male': 1, 'Female': 0})\n",
        "\n",
        "gg['Occupation'] = gg['Occupation'].map({'Other': 0, 'Salaried': 1, 'Self_Employed': 2, 'Entrepreneur': 3})\n",
        "gg['Is_Active'] = gg['Is_Active'].map({'Yes': 1, 'No': 0})"
      ],
      "execution_count": 36,
      "outputs": []
    },
    {
      "cell_type": "code",
      "metadata": {
        "colab": {
          "base_uri": "https://localhost:8080/"
        },
        "id": "rVcPXCo8IqCg",
        "outputId": "ec31e04d-0e76-4eeb-c553-a8824e5bc34f"
      },
      "source": [
        "# Import label encoder\n",
        "from sklearn import preprocessing\n",
        "\n",
        "# label_encoder object knows how to understand word labels.\n",
        "label_encoder = preprocessing.LabelEncoder()\n",
        "\n",
        "# Encode labels in column 'Avg_Account_Balance'.\n",
        "gg['Avg_Account_Balance']= label_encoder.fit_transform(gg['Avg_Account_Balance'])\n",
        "\n",
        "gg['Avg_Account_Balance'].unique()"
      ],
      "execution_count": 37,
      "outputs": [
        {
          "output_type": "execute_result",
          "data": {
            "text/plain": [
              "array([27635, 37999,   732, ..., 48831, 63962, 18118])"
            ]
          },
          "metadata": {
            "tags": []
          },
          "execution_count": 37
        }
      ]
    },
    {
      "cell_type": "code",
      "metadata": {
        "colab": {
          "base_uri": "https://localhost:8080/"
        },
        "id": "QqPwbhuqHU7Y",
        "outputId": "30d9fc12-7ba6-4170-9c1e-0a42899f9186"
      },
      "source": [
        "# Import label encoder\n",
        "from sklearn import preprocessing\n",
        "\n",
        "# label_encoder object knows how to understand word labels.\n",
        "label_encoder = preprocessing.LabelEncoder()\n",
        "\n",
        "# Encode labels in column 'Region_Code'.\n",
        "gg['Region_Code']= label_encoder.fit_transform(gg['Region_Code'])\n",
        "\n",
        "gg['Region_Code'].unique()"
      ],
      "execution_count": 38,
      "outputs": [
        {
          "output_type": "execute_result",
          "data": {
            "text/plain": [
              "array([ 4, 18, 20, 22,  3,  7, 34, 33, 27, 23, 11, 30, 24, 28, 19, 31,  1,\n",
              "        2, 29, 32, 12, 13, 14,  6, 15, 10,  8, 21,  0, 25, 26, 17,  5,  9,\n",
              "       16])"
            ]
          },
          "metadata": {
            "tags": []
          },
          "execution_count": 38
        }
      ]
    },
    {
      "cell_type": "code",
      "metadata": {
        "colab": {
          "base_uri": "https://localhost:8080/"
        },
        "id": "FFbjj6kQcnM1",
        "outputId": "b4a3e3eb-b097-4298-c4d6-edf194cc6138"
      },
      "source": [
        "gg['Is_Active'].value_counts()"
      ],
      "execution_count": 39,
      "outputs": [
        {
          "output_type": "execute_result",
          "data": {
            "text/plain": [
              "0    63797\n",
              "1    41515\n",
              "Name: Is_Active, dtype: int64"
            ]
          },
          "metadata": {
            "tags": []
          },
          "execution_count": 39
        }
      ]
    },
    {
      "cell_type": "markdown",
      "metadata": {
        "id": "YIjpfA6J9n9g"
      },
      "source": [
        "# 4.Test-Train Split"
      ]
    },
    {
      "cell_type": "code",
      "metadata": {
        "id": "fWWeVjKK9osY"
      },
      "source": [
        "# Import the required library\n",
        "from sklearn.model_selection import train_test_split"
      ],
      "execution_count": 40,
      "outputs": []
    },
    {
      "cell_type": "code",
      "metadata": {
        "colab": {
          "base_uri": "https://localhost:8080/",
          "height": 204
        },
        "id": "-VYyRJ8f9sYt",
        "outputId": "1b3da444-b1e0-4bd0-cceb-0671e0a1a77b"
      },
      "source": [
        "X = ff.drop(['Is_Lead'], 1)\n",
        "X.head()"
      ],
      "execution_count": 41,
      "outputs": [
        {
          "output_type": "execute_result",
          "data": {
            "text/html": [
              "<div>\n",
              "<style scoped>\n",
              "    .dataframe tbody tr th:only-of-type {\n",
              "        vertical-align: middle;\n",
              "    }\n",
              "\n",
              "    .dataframe tbody tr th {\n",
              "        vertical-align: top;\n",
              "    }\n",
              "\n",
              "    .dataframe thead th {\n",
              "        text-align: right;\n",
              "    }\n",
              "</style>\n",
              "<table border=\"1\" class=\"dataframe\">\n",
              "  <thead>\n",
              "    <tr style=\"text-align: right;\">\n",
              "      <th></th>\n",
              "      <th>Gender</th>\n",
              "      <th>Age</th>\n",
              "      <th>Region_Code</th>\n",
              "      <th>Occupation</th>\n",
              "      <th>Channel_Code</th>\n",
              "      <th>Vintage</th>\n",
              "      <th>Credit_Product</th>\n",
              "      <th>Avg_Account_Balance</th>\n",
              "      <th>Is_Active</th>\n",
              "    </tr>\n",
              "  </thead>\n",
              "  <tbody>\n",
              "    <tr>\n",
              "      <th>0</th>\n",
              "      <td>0</td>\n",
              "      <td>73</td>\n",
              "      <td>18</td>\n",
              "      <td>0</td>\n",
              "      <td>2</td>\n",
              "      <td>43</td>\n",
              "      <td>0</td>\n",
              "      <td>69898</td>\n",
              "      <td>0</td>\n",
              "    </tr>\n",
              "    <tr>\n",
              "      <th>1</th>\n",
              "      <td>0</td>\n",
              "      <td>30</td>\n",
              "      <td>27</td>\n",
              "      <td>1</td>\n",
              "      <td>0</td>\n",
              "      <td>32</td>\n",
              "      <td>0</td>\n",
              "      <td>28951</td>\n",
              "      <td>0</td>\n",
              "    </tr>\n",
              "    <tr>\n",
              "      <th>2</th>\n",
              "      <td>0</td>\n",
              "      <td>56</td>\n",
              "      <td>18</td>\n",
              "      <td>2</td>\n",
              "      <td>2</td>\n",
              "      <td>26</td>\n",
              "      <td>0</td>\n",
              "      <td>96873</td>\n",
              "      <td>1</td>\n",
              "    </tr>\n",
              "    <tr>\n",
              "      <th>3</th>\n",
              "      <td>1</td>\n",
              "      <td>34</td>\n",
              "      <td>20</td>\n",
              "      <td>1</td>\n",
              "      <td>0</td>\n",
              "      <td>19</td>\n",
              "      <td>0</td>\n",
              "      <td>18490</td>\n",
              "      <td>0</td>\n",
              "    </tr>\n",
              "    <tr>\n",
              "      <th>4</th>\n",
              "      <td>0</td>\n",
              "      <td>30</td>\n",
              "      <td>32</td>\n",
              "      <td>1</td>\n",
              "      <td>0</td>\n",
              "      <td>33</td>\n",
              "      <td>0</td>\n",
              "      <td>57050</td>\n",
              "      <td>0</td>\n",
              "    </tr>\n",
              "  </tbody>\n",
              "</table>\n",
              "</div>"
            ],
            "text/plain": [
              "   Gender  Age  Region_Code  ...  Credit_Product  Avg_Account_Balance  Is_Active\n",
              "0       0   73           18  ...               0                69898          0\n",
              "1       0   30           27  ...               0                28951          0\n",
              "2       0   56           18  ...               0                96873          1\n",
              "3       1   34           20  ...               0                18490          0\n",
              "4       0   30           32  ...               0                57050          0\n",
              "\n",
              "[5 rows x 9 columns]"
            ]
          },
          "metadata": {
            "tags": []
          },
          "execution_count": 41
        }
      ]
    },
    {
      "cell_type": "code",
      "metadata": {
        "colab": {
          "base_uri": "https://localhost:8080/"
        },
        "id": "HshLf7uv9zMc",
        "outputId": "f5590f50-c59e-497b-a5ac-4ae5ee8d4c2a"
      },
      "source": [
        "# Putting the target variable in y\n",
        "y = ff['Is_Lead']\n",
        "y.head()"
      ],
      "execution_count": 42,
      "outputs": [
        {
          "output_type": "execute_result",
          "data": {
            "text/plain": [
              "0    0\n",
              "1    0\n",
              "2    0\n",
              "3    0\n",
              "4    0\n",
              "Name: Is_Lead, dtype: int64"
            ]
          },
          "metadata": {
            "tags": []
          },
          "execution_count": 42
        }
      ]
    },
    {
      "cell_type": "code",
      "metadata": {
        "id": "Sfca246Tg89I"
      },
      "source": [
        "# Split the dataset into 70% and 30% for train and test respectively(taken with imp features)\n",
        "X_train, X_test, y_train, y_test = train_test_split(X, y, train_size=0.7, test_size=0.3, random_state=10)"
      ],
      "execution_count": 43,
      "outputs": []
    },
    {
      "cell_type": "code",
      "metadata": {
        "colab": {
          "base_uri": "https://localhost:8080/"
        },
        "id": "s4yWtF-FfNCD",
        "outputId": "f29d8233-f6e6-4afd-d87b-97d18b3ddb19"
      },
      "source": [
        "X_train['Is_Active'].value_counts()"
      ],
      "execution_count": 44,
      "outputs": [
        {
          "output_type": "execute_result",
          "data": {
            "text/plain": [
              "0    105293\n",
              "1     66714\n",
              "Name: Is_Active, dtype: int64"
            ]
          },
          "metadata": {
            "tags": []
          },
          "execution_count": 44
        }
      ]
    },
    {
      "cell_type": "markdown",
      "metadata": {
        "id": "BeY0m1IhfJMj"
      },
      "source": [
        "#  5.Model Building : Logistic Regression"
      ]
    },
    {
      "cell_type": "code",
      "metadata": {
        "colab": {
          "base_uri": "https://localhost:8080/"
        },
        "id": "k3ObGnEr5BGa",
        "outputId": "f6cd28a2-f258-4558-90f5-6f45a752afec"
      },
      "source": [
        "#Let's start with importing necessary libraries\n",
        "import pandas as pd \n",
        "import numpy as np \n",
        "from sklearn.preprocessing import StandardScaler \n",
        "from sklearn.linear_model  import Ridge,Lasso,RidgeCV, LassoCV, ElasticNet, ElasticNetCV, LogisticRegression\n",
        "from sklearn.model_selection import train_test_split\n",
        "from statsmodels.stats.outliers_influence import variance_inflation_factor \n",
        "from sklearn.metrics import accuracy_score, confusion_matrix, roc_curve, roc_auc_score\n",
        "import matplotlib.pyplot as plt\n",
        "import seaborn as sns\n",
        "sns.set()"
      ],
      "execution_count": 45,
      "outputs": [
        {
          "output_type": "stream",
          "text": [
            "/usr/local/lib/python3.7/dist-packages/statsmodels/tools/_testing.py:19: FutureWarning: pandas.util.testing is deprecated. Use the functions in the public API at pandas.testing instead.\n",
            "  import pandas.util.testing as tm\n"
          ],
          "name": "stderr"
        }
      ]
    },
    {
      "cell_type": "code",
      "metadata": {
        "colab": {
          "base_uri": "https://localhost:8080/"
        },
        "id": "pSwqCeBbelPY",
        "outputId": "3e32face-0e40-4cda-a7ea-da0d5e1df660"
      },
      "source": [
        "log_reg = LogisticRegression()\n",
        "log_reg.fit(X_train,y_train)"
      ],
      "execution_count": 46,
      "outputs": [
        {
          "output_type": "execute_result",
          "data": {
            "text/plain": [
              "LogisticRegression(C=1.0, class_weight=None, dual=False, fit_intercept=True,\n",
              "                   intercept_scaling=1, l1_ratio=None, max_iter=100,\n",
              "                   multi_class='auto', n_jobs=None, penalty='l2',\n",
              "                   random_state=None, solver='lbfgs', tol=0.0001, verbose=0,\n",
              "                   warm_start=False)"
            ]
          },
          "metadata": {
            "tags": []
          },
          "execution_count": 46
        }
      ]
    },
    {
      "cell_type": "markdown",
      "metadata": {
        "id": "4ghAmYLm5O9x"
      },
      "source": [
        "Feature selection with RFE"
      ]
    },
    {
      "cell_type": "code",
      "metadata": {
        "id": "jwW8KpefOl71"
      },
      "source": [
        "# Running RFE with 6 variables as output\n",
        "from sklearn.feature_selection import RFE\n",
        "rfe = RFE(log_reg,6)\n",
        "rfe = rfe.fit(X_train, y_train)"
      ],
      "execution_count": 47,
      "outputs": []
    },
    {
      "cell_type": "code",
      "metadata": {
        "colab": {
          "base_uri": "https://localhost:8080/"
        },
        "id": "jj37nABvOwob",
        "outputId": "802ec809-063b-4359-ef99-e81fb406463e"
      },
      "source": [
        "rfe.support_"
      ],
      "execution_count": 48,
      "outputs": [
        {
          "output_type": "execute_result",
          "data": {
            "text/plain": [
              "array([ True, False, False,  True,  True,  True,  True, False,  True])"
            ]
          },
          "metadata": {
            "tags": []
          },
          "execution_count": 48
        }
      ]
    },
    {
      "cell_type": "code",
      "metadata": {
        "colab": {
          "base_uri": "https://localhost:8080/"
        },
        "id": "aK0nZJa9PX2c",
        "outputId": "ad3d7181-2301-4399-ad77-14df6e39b548"
      },
      "source": [
        "# Features that have been selected by RFE\n",
        "list(zip(X_train.columns, rfe.support_, rfe.ranking_))"
      ],
      "execution_count": 49,
      "outputs": [
        {
          "output_type": "execute_result",
          "data": {
            "text/plain": [
              "[('Gender', True, 1),\n",
              " ('Age', False, 2),\n",
              " ('Region_Code', False, 3),\n",
              " ('Occupation', True, 1),\n",
              " ('Channel_Code', True, 1),\n",
              " ('Vintage', True, 1),\n",
              " ('Credit_Product', True, 1),\n",
              " ('Avg_Account_Balance', False, 4),\n",
              " ('Is_Active', True, 1)]"
            ]
          },
          "metadata": {
            "tags": []
          },
          "execution_count": 49
        }
      ]
    },
    {
      "cell_type": "code",
      "metadata": {
        "id": "B1SUojXiQYKL"
      },
      "source": [
        "# Put all the columns selected by RFE in the variable 'col'\n",
        "col = X_train.columns[rfe.support_]"
      ],
      "execution_count": 50,
      "outputs": []
    },
    {
      "cell_type": "code",
      "metadata": {
        "colab": {
          "base_uri": "https://localhost:8080/"
        },
        "id": "m2FX0S-pQgmN",
        "outputId": "fa79e100-1b00-45a3-9bf0-b5c05d073b3f"
      },
      "source": [
        "col"
      ],
      "execution_count": 51,
      "outputs": [
        {
          "output_type": "execute_result",
          "data": {
            "text/plain": [
              "Index(['Gender', 'Occupation', 'Channel_Code', 'Vintage', 'Credit_Product',\n",
              "       'Is_Active'],\n",
              "      dtype='object')"
            ]
          },
          "metadata": {
            "tags": []
          },
          "execution_count": 51
        }
      ]
    },
    {
      "cell_type": "code",
      "metadata": {
        "id": "YwVi0XreQZXG"
      },
      "source": [
        "# Selecting columns selected by RFE\n",
        "X_train1 = X_train[col]"
      ],
      "execution_count": 52,
      "outputs": []
    },
    {
      "cell_type": "code",
      "metadata": {
        "colab": {
          "base_uri": "https://localhost:8080/",
          "height": 419
        },
        "id": "3Vf6quYcQfM7",
        "outputId": "49746669-98b5-44f6-f001-cf73f3fae3f3"
      },
      "source": [
        "X_train1"
      ],
      "execution_count": 53,
      "outputs": [
        {
          "output_type": "execute_result",
          "data": {
            "text/html": [
              "<div>\n",
              "<style scoped>\n",
              "    .dataframe tbody tr th:only-of-type {\n",
              "        vertical-align: middle;\n",
              "    }\n",
              "\n",
              "    .dataframe tbody tr th {\n",
              "        vertical-align: top;\n",
              "    }\n",
              "\n",
              "    .dataframe thead th {\n",
              "        text-align: right;\n",
              "    }\n",
              "</style>\n",
              "<table border=\"1\" class=\"dataframe\">\n",
              "  <thead>\n",
              "    <tr style=\"text-align: right;\">\n",
              "      <th></th>\n",
              "      <th>Gender</th>\n",
              "      <th>Occupation</th>\n",
              "      <th>Channel_Code</th>\n",
              "      <th>Vintage</th>\n",
              "      <th>Credit_Product</th>\n",
              "      <th>Is_Active</th>\n",
              "    </tr>\n",
              "  </thead>\n",
              "  <tbody>\n",
              "    <tr>\n",
              "      <th>40774</th>\n",
              "      <td>1</td>\n",
              "      <td>1</td>\n",
              "      <td>0</td>\n",
              "      <td>27</td>\n",
              "      <td>0</td>\n",
              "      <td>0</td>\n",
              "    </tr>\n",
              "    <tr>\n",
              "      <th>158466</th>\n",
              "      <td>1</td>\n",
              "      <td>2</td>\n",
              "      <td>2</td>\n",
              "      <td>45</td>\n",
              "      <td>1</td>\n",
              "      <td>0</td>\n",
              "    </tr>\n",
              "    <tr>\n",
              "      <th>82878</th>\n",
              "      <td>0</td>\n",
              "      <td>2</td>\n",
              "      <td>0</td>\n",
              "      <td>50</td>\n",
              "      <td>0</td>\n",
              "      <td>0</td>\n",
              "    </tr>\n",
              "    <tr>\n",
              "      <th>117102</th>\n",
              "      <td>1</td>\n",
              "      <td>1</td>\n",
              "      <td>0</td>\n",
              "      <td>14</td>\n",
              "      <td>0</td>\n",
              "      <td>0</td>\n",
              "    </tr>\n",
              "    <tr>\n",
              "      <th>28563</th>\n",
              "      <td>1</td>\n",
              "      <td>2</td>\n",
              "      <td>1</td>\n",
              "      <td>56</td>\n",
              "      <td>0</td>\n",
              "      <td>1</td>\n",
              "    </tr>\n",
              "    <tr>\n",
              "      <th>...</th>\n",
              "      <td>...</td>\n",
              "      <td>...</td>\n",
              "      <td>...</td>\n",
              "      <td>...</td>\n",
              "      <td>...</td>\n",
              "      <td>...</td>\n",
              "    </tr>\n",
              "    <tr>\n",
              "      <th>93553</th>\n",
              "      <td>1</td>\n",
              "      <td>2</td>\n",
              "      <td>1</td>\n",
              "      <td>32</td>\n",
              "      <td>1</td>\n",
              "      <td>0</td>\n",
              "    </tr>\n",
              "    <tr>\n",
              "      <th>181568</th>\n",
              "      <td>1</td>\n",
              "      <td>2</td>\n",
              "      <td>1</td>\n",
              "      <td>80</td>\n",
              "      <td>1</td>\n",
              "      <td>0</td>\n",
              "    </tr>\n",
              "    <tr>\n",
              "      <th>94735</th>\n",
              "      <td>1</td>\n",
              "      <td>0</td>\n",
              "      <td>0</td>\n",
              "      <td>44</td>\n",
              "      <td>0</td>\n",
              "      <td>0</td>\n",
              "    </tr>\n",
              "    <tr>\n",
              "      <th>236669</th>\n",
              "      <td>0</td>\n",
              "      <td>2</td>\n",
              "      <td>2</td>\n",
              "      <td>103</td>\n",
              "      <td>1</td>\n",
              "      <td>0</td>\n",
              "    </tr>\n",
              "    <tr>\n",
              "      <th>83209</th>\n",
              "      <td>0</td>\n",
              "      <td>0</td>\n",
              "      <td>2</td>\n",
              "      <td>81</td>\n",
              "      <td>0</td>\n",
              "      <td>1</td>\n",
              "    </tr>\n",
              "  </tbody>\n",
              "</table>\n",
              "<p>172007 rows × 6 columns</p>\n",
              "</div>"
            ],
            "text/plain": [
              "        Gender  Occupation  Channel_Code  Vintage Credit_Product  Is_Active\n",
              "40774        1           1             0       27              0          0\n",
              "158466       1           2             2       45              1          0\n",
              "82878        0           2             0       50              0          0\n",
              "117102       1           1             0       14              0          0\n",
              "28563        1           2             1       56              0          1\n",
              "...        ...         ...           ...      ...            ...        ...\n",
              "93553        1           2             1       32              1          0\n",
              "181568       1           2             1       80              1          0\n",
              "94735        1           0             0       44              0          0\n",
              "236669       0           2             2      103              1          0\n",
              "83209        0           0             2       81              0          1\n",
              "\n",
              "[172007 rows x 6 columns]"
            ]
          },
          "metadata": {
            "tags": []
          },
          "execution_count": 53
        }
      ]
    },
    {
      "cell_type": "code",
      "metadata": {
        "colab": {
          "base_uri": "https://localhost:8080/"
        },
        "id": "ekKVyPekQrM5",
        "outputId": "9162ddce-c8d9-4e8c-a3aa-f521bf316de7"
      },
      "source": [
        "log_reg = LogisticRegression()\n",
        "\n",
        "log_reg.fit(X_train1,y_train)"
      ],
      "execution_count": 54,
      "outputs": [
        {
          "output_type": "execute_result",
          "data": {
            "text/plain": [
              "LogisticRegression(C=1.0, class_weight=None, dual=False, fit_intercept=True,\n",
              "                   intercept_scaling=1, l1_ratio=None, max_iter=100,\n",
              "                   multi_class='auto', n_jobs=None, penalty='l2',\n",
              "                   random_state=None, solver='lbfgs', tol=0.0001, verbose=0,\n",
              "                   warm_start=False)"
            ]
          },
          "metadata": {
            "tags": []
          },
          "execution_count": 54
        }
      ]
    },
    {
      "cell_type": "code",
      "metadata": {
        "id": "R2nmhFWCToi3"
      },
      "source": [
        "X_test1 = X_test[col]"
      ],
      "execution_count": 55,
      "outputs": []
    },
    {
      "cell_type": "code",
      "metadata": {
        "id": "_wwbdSKJQ8Ql"
      },
      "source": [
        "y_pred = log_reg.predict(X_test1)"
      ],
      "execution_count": 56,
      "outputs": []
    },
    {
      "cell_type": "code",
      "metadata": {
        "colab": {
          "base_uri": "https://localhost:8080/"
        },
        "id": "owY13nSzQute",
        "outputId": "bf9ac1b3-6ca4-449a-db67-edcdf9c1a6df"
      },
      "source": [
        "# Area Under Curve\n",
        "auc = roc_auc_score(y_test, y_pred)\n",
        "auc"
      ],
      "execution_count": 57,
      "outputs": [
        {
          "output_type": "execute_result",
          "data": {
            "text/plain": [
              "0.6994539379268162"
            ]
          },
          "metadata": {
            "tags": []
          },
          "execution_count": 57
        }
      ]
    },
    {
      "cell_type": "markdown",
      "metadata": {
        "id": "DpbzZIXUfpf9"
      },
      "source": [
        "# 6.Model Building: Catboost Classifier"
      ]
    },
    {
      "cell_type": "code",
      "metadata": {
        "id": "DrFJbfNmdQ1l",
        "colab": {
          "base_uri": "https://localhost:8080/"
        },
        "outputId": "06413092-ccd1-4c79-f955-07a4ec386bb8"
      },
      "source": [
        "!pip install CatBoost\n",
        "from catboost import CatBoostClassifier"
      ],
      "execution_count": 58,
      "outputs": [
        {
          "output_type": "stream",
          "text": [
            "Collecting CatBoost\n",
            "\u001b[?25l  Downloading https://files.pythonhosted.org/packages/47/80/8e9c57ec32dfed6ba2922bc5c96462cbf8596ce1a6f5de532ad1e43e53fe/catboost-0.25.1-cp37-none-manylinux1_x86_64.whl (67.3MB)\n",
            "\u001b[K     |████████████████████████████████| 67.3MB 61kB/s \n",
            "\u001b[?25hRequirement already satisfied: pandas>=0.24.0 in /usr/local/lib/python3.7/dist-packages (from CatBoost) (1.1.5)\n",
            "Requirement already satisfied: graphviz in /usr/local/lib/python3.7/dist-packages (from CatBoost) (0.10.1)\n",
            "Requirement already satisfied: matplotlib in /usr/local/lib/python3.7/dist-packages (from CatBoost) (3.2.2)\n",
            "Requirement already satisfied: numpy>=1.16.0 in /usr/local/lib/python3.7/dist-packages (from CatBoost) (1.19.5)\n",
            "Requirement already satisfied: six in /usr/local/lib/python3.7/dist-packages (from CatBoost) (1.15.0)\n",
            "Requirement already satisfied: plotly in /usr/local/lib/python3.7/dist-packages (from CatBoost) (4.4.1)\n",
            "Requirement already satisfied: scipy in /usr/local/lib/python3.7/dist-packages (from CatBoost) (1.4.1)\n",
            "Requirement already satisfied: python-dateutil>=2.7.3 in /usr/local/lib/python3.7/dist-packages (from pandas>=0.24.0->CatBoost) (2.8.1)\n",
            "Requirement already satisfied: pytz>=2017.2 in /usr/local/lib/python3.7/dist-packages (from pandas>=0.24.0->CatBoost) (2018.9)\n",
            "Requirement already satisfied: kiwisolver>=1.0.1 in /usr/local/lib/python3.7/dist-packages (from matplotlib->CatBoost) (1.3.1)\n",
            "Requirement already satisfied: cycler>=0.10 in /usr/local/lib/python3.7/dist-packages (from matplotlib->CatBoost) (0.10.0)\n",
            "Requirement already satisfied: pyparsing!=2.0.4,!=2.1.2,!=2.1.6,>=2.0.1 in /usr/local/lib/python3.7/dist-packages (from matplotlib->CatBoost) (2.4.7)\n",
            "Requirement already satisfied: retrying>=1.3.3 in /usr/local/lib/python3.7/dist-packages (from plotly->CatBoost) (1.3.3)\n",
            "Installing collected packages: CatBoost\n",
            "Successfully installed CatBoost-0.25.1\n"
          ],
          "name": "stdout"
        }
      ]
    },
    {
      "cell_type": "code",
      "metadata": {
        "colab": {
          "base_uri": "https://localhost:8080/"
        },
        "id": "lwpE0SotdRGv",
        "outputId": "7615bd90-01bf-4d3b-a02f-adba0a2876ed"
      },
      "source": [
        "#with all features\n",
        "model2 = CatBoostClassifier(iterations=100)\n",
        "\n",
        "# fit the model with the training data\n",
        "model2.fit(X_train,y_train,plot=False)\n",
        "print('\\n Model Trainied')\n",
        "\n",
        "# predict the target on the train dataset\n",
        "predict_train = model2.predict(X_train)\n"
      ],
      "execution_count": 59,
      "outputs": [
        {
          "output_type": "stream",
          "text": [
            "Learning rate set to 0.5\n",
            "0:\tlearn: 0.4840195\ttotal: 85.9ms\tremaining: 8.51s\n",
            "1:\tlearn: 0.4107067\ttotal: 117ms\tremaining: 5.74s\n",
            "2:\tlearn: 0.3808026\ttotal: 149ms\tremaining: 4.81s\n",
            "3:\tlearn: 0.3677736\ttotal: 180ms\tremaining: 4.31s\n",
            "4:\tlearn: 0.3541276\ttotal: 216ms\tremaining: 4.11s\n",
            "5:\tlearn: 0.3490428\ttotal: 254ms\tremaining: 3.98s\n",
            "6:\tlearn: 0.3468181\ttotal: 287ms\tremaining: 3.81s\n",
            "7:\tlearn: 0.3453797\ttotal: 325ms\tremaining: 3.73s\n",
            "8:\tlearn: 0.3450254\ttotal: 354ms\tremaining: 3.58s\n",
            "9:\tlearn: 0.3444957\ttotal: 386ms\tremaining: 3.47s\n",
            "10:\tlearn: 0.3440607\ttotal: 418ms\tremaining: 3.38s\n",
            "11:\tlearn: 0.3438388\ttotal: 458ms\tremaining: 3.36s\n",
            "12:\tlearn: 0.3436171\ttotal: 491ms\tremaining: 3.28s\n",
            "13:\tlearn: 0.3429765\ttotal: 522ms\tremaining: 3.21s\n",
            "14:\tlearn: 0.3428339\ttotal: 553ms\tremaining: 3.13s\n",
            "15:\tlearn: 0.3426305\ttotal: 588ms\tremaining: 3.08s\n",
            "16:\tlearn: 0.3424984\ttotal: 621ms\tremaining: 3.03s\n",
            "17:\tlearn: 0.3424214\ttotal: 657ms\tremaining: 2.99s\n",
            "18:\tlearn: 0.3420122\ttotal: 690ms\tremaining: 2.94s\n",
            "19:\tlearn: 0.3418629\ttotal: 721ms\tremaining: 2.88s\n",
            "20:\tlearn: 0.3418048\ttotal: 756ms\tremaining: 2.84s\n",
            "21:\tlearn: 0.3416753\ttotal: 786ms\tremaining: 2.79s\n",
            "22:\tlearn: 0.3415320\ttotal: 817ms\tremaining: 2.73s\n",
            "23:\tlearn: 0.3413243\ttotal: 856ms\tremaining: 2.71s\n",
            "24:\tlearn: 0.3411912\ttotal: 888ms\tremaining: 2.66s\n",
            "25:\tlearn: 0.3410323\ttotal: 920ms\tremaining: 2.62s\n",
            "26:\tlearn: 0.3408603\ttotal: 951ms\tremaining: 2.57s\n",
            "27:\tlearn: 0.3407525\ttotal: 981ms\tremaining: 2.52s\n",
            "28:\tlearn: 0.3406715\ttotal: 1.02s\tremaining: 2.49s\n",
            "29:\tlearn: 0.3405312\ttotal: 1.05s\tremaining: 2.45s\n",
            "30:\tlearn: 0.3404426\ttotal: 1.08s\tremaining: 2.41s\n",
            "31:\tlearn: 0.3402724\ttotal: 1.11s\tremaining: 2.37s\n",
            "32:\tlearn: 0.3401700\ttotal: 1.15s\tremaining: 2.33s\n",
            "33:\tlearn: 0.3400942\ttotal: 1.18s\tremaining: 2.29s\n",
            "34:\tlearn: 0.3399378\ttotal: 1.21s\tremaining: 2.25s\n",
            "35:\tlearn: 0.3397185\ttotal: 1.25s\tremaining: 2.21s\n",
            "36:\tlearn: 0.3396526\ttotal: 1.27s\tremaining: 2.17s\n",
            "37:\tlearn: 0.3395567\ttotal: 1.31s\tremaining: 2.13s\n",
            "38:\tlearn: 0.3394938\ttotal: 1.34s\tremaining: 2.09s\n",
            "39:\tlearn: 0.3393339\ttotal: 1.37s\tremaining: 2.05s\n",
            "40:\tlearn: 0.3392742\ttotal: 1.4s\tremaining: 2.01s\n",
            "41:\tlearn: 0.3391436\ttotal: 1.43s\tremaining: 1.97s\n",
            "42:\tlearn: 0.3390712\ttotal: 1.47s\tremaining: 1.94s\n",
            "43:\tlearn: 0.3389433\ttotal: 1.5s\tremaining: 1.91s\n",
            "44:\tlearn: 0.3388630\ttotal: 1.53s\tremaining: 1.87s\n",
            "45:\tlearn: 0.3388316\ttotal: 1.56s\tremaining: 1.83s\n",
            "46:\tlearn: 0.3387661\ttotal: 1.59s\tremaining: 1.79s\n",
            "47:\tlearn: 0.3386568\ttotal: 1.62s\tremaining: 1.76s\n",
            "48:\tlearn: 0.3385286\ttotal: 1.65s\tremaining: 1.72s\n",
            "49:\tlearn: 0.3384583\ttotal: 1.7s\tremaining: 1.7s\n",
            "50:\tlearn: 0.3383273\ttotal: 1.73s\tremaining: 1.66s\n",
            "51:\tlearn: 0.3382499\ttotal: 1.77s\tremaining: 1.63s\n",
            "52:\tlearn: 0.3381685\ttotal: 1.8s\tremaining: 1.59s\n",
            "53:\tlearn: 0.3381484\ttotal: 1.83s\tremaining: 1.56s\n",
            "54:\tlearn: 0.3380283\ttotal: 1.86s\tremaining: 1.52s\n",
            "55:\tlearn: 0.3379584\ttotal: 1.89s\tremaining: 1.49s\n",
            "56:\tlearn: 0.3378348\ttotal: 1.93s\tremaining: 1.45s\n",
            "57:\tlearn: 0.3377565\ttotal: 1.96s\tremaining: 1.42s\n",
            "58:\tlearn: 0.3376638\ttotal: 1.99s\tremaining: 1.39s\n",
            "59:\tlearn: 0.3375980\ttotal: 2.03s\tremaining: 1.35s\n",
            "60:\tlearn: 0.3375130\ttotal: 2.06s\tremaining: 1.31s\n",
            "61:\tlearn: 0.3374044\ttotal: 2.09s\tremaining: 1.28s\n",
            "62:\tlearn: 0.3373924\ttotal: 2.12s\tremaining: 1.24s\n",
            "63:\tlearn: 0.3373058\ttotal: 2.15s\tremaining: 1.21s\n",
            "64:\tlearn: 0.3372280\ttotal: 2.18s\tremaining: 1.17s\n",
            "65:\tlearn: 0.3371683\ttotal: 2.21s\tremaining: 1.14s\n",
            "66:\tlearn: 0.3370851\ttotal: 2.24s\tremaining: 1.1s\n",
            "67:\tlearn: 0.3369372\ttotal: 2.28s\tremaining: 1.07s\n",
            "68:\tlearn: 0.3368808\ttotal: 2.32s\tremaining: 1.04s\n",
            "69:\tlearn: 0.3367826\ttotal: 2.35s\tremaining: 1.01s\n",
            "70:\tlearn: 0.3366921\ttotal: 2.38s\tremaining: 974ms\n",
            "71:\tlearn: 0.3365919\ttotal: 2.43s\tremaining: 944ms\n",
            "72:\tlearn: 0.3364775\ttotal: 2.47s\tremaining: 912ms\n",
            "73:\tlearn: 0.3363537\ttotal: 2.5s\tremaining: 878ms\n",
            "74:\tlearn: 0.3362945\ttotal: 2.53s\tremaining: 843ms\n",
            "75:\tlearn: 0.3361972\ttotal: 2.56s\tremaining: 809ms\n",
            "76:\tlearn: 0.3361174\ttotal: 2.59s\tremaining: 774ms\n",
            "77:\tlearn: 0.3360278\ttotal: 2.62s\tremaining: 740ms\n",
            "78:\tlearn: 0.3359646\ttotal: 2.66s\tremaining: 706ms\n",
            "79:\tlearn: 0.3359204\ttotal: 2.69s\tremaining: 672ms\n",
            "80:\tlearn: 0.3358490\ttotal: 2.72s\tremaining: 638ms\n",
            "81:\tlearn: 0.3357755\ttotal: 2.75s\tremaining: 604ms\n",
            "82:\tlearn: 0.3357096\ttotal: 2.78s\tremaining: 569ms\n",
            "83:\tlearn: 0.3356039\ttotal: 2.81s\tremaining: 535ms\n",
            "84:\tlearn: 0.3355404\ttotal: 2.84s\tremaining: 501ms\n",
            "85:\tlearn: 0.3354675\ttotal: 2.88s\tremaining: 469ms\n",
            "86:\tlearn: 0.3354332\ttotal: 2.91s\tremaining: 435ms\n",
            "87:\tlearn: 0.3353857\ttotal: 2.94s\tremaining: 401ms\n",
            "88:\tlearn: 0.3353028\ttotal: 2.97s\tremaining: 367ms\n",
            "89:\tlearn: 0.3352315\ttotal: 3s\tremaining: 334ms\n",
            "90:\tlearn: 0.3351515\ttotal: 3.03s\tremaining: 300ms\n",
            "91:\tlearn: 0.3350505\ttotal: 3.06s\tremaining: 267ms\n",
            "92:\tlearn: 0.3350037\ttotal: 3.1s\tremaining: 233ms\n",
            "93:\tlearn: 0.3349048\ttotal: 3.13s\tremaining: 200ms\n",
            "94:\tlearn: 0.3348624\ttotal: 3.16s\tremaining: 166ms\n",
            "95:\tlearn: 0.3347966\ttotal: 3.19s\tremaining: 133ms\n",
            "96:\tlearn: 0.3347316\ttotal: 3.22s\tremaining: 99.7ms\n",
            "97:\tlearn: 0.3346657\ttotal: 3.25s\tremaining: 66.4ms\n",
            "98:\tlearn: 0.3346313\ttotal: 3.28s\tremaining: 33.2ms\n",
            "99:\tlearn: 0.3345538\ttotal: 3.32s\tremaining: 0us\n",
            "\n",
            " Model Trainied\n"
          ],
          "name": "stdout"
        }
      ]
    },
    {
      "cell_type": "code",
      "metadata": {
        "colab": {
          "base_uri": "https://localhost:8080/"
        },
        "id": "0T9oZDDBiKvy",
        "outputId": "8c4ff172-60a6-4ade-b526-b0f6524efdb5"
      },
      "source": [
        "# Running RFE with 4 variables as output\n",
        "from sklearn.feature_selection import RFE\n",
        "rfe = RFE(model2,7)\n",
        "rfe = rfe.fit(X_train, y_train)"
      ],
      "execution_count": 60,
      "outputs": [
        {
          "output_type": "stream",
          "text": [
            "Learning rate set to 0.5\n",
            "0:\tlearn: 0.4840195\ttotal: 32.6ms\tremaining: 3.23s\n",
            "1:\tlearn: 0.4107067\ttotal: 63.9ms\tremaining: 3.13s\n",
            "2:\tlearn: 0.3808026\ttotal: 96ms\tremaining: 3.1s\n",
            "3:\tlearn: 0.3677736\ttotal: 126ms\tremaining: 3.04s\n",
            "4:\tlearn: 0.3541276\ttotal: 159ms\tremaining: 3.02s\n",
            "5:\tlearn: 0.3490428\ttotal: 193ms\tremaining: 3.03s\n",
            "6:\tlearn: 0.3468181\ttotal: 225ms\tremaining: 2.99s\n",
            "7:\tlearn: 0.3453797\ttotal: 258ms\tremaining: 2.97s\n",
            "8:\tlearn: 0.3450254\ttotal: 288ms\tremaining: 2.91s\n",
            "9:\tlearn: 0.3444957\ttotal: 319ms\tremaining: 2.87s\n",
            "10:\tlearn: 0.3440607\ttotal: 349ms\tremaining: 2.82s\n",
            "11:\tlearn: 0.3438388\ttotal: 380ms\tremaining: 2.79s\n",
            "12:\tlearn: 0.3436171\ttotal: 416ms\tremaining: 2.78s\n",
            "13:\tlearn: 0.3429765\ttotal: 450ms\tremaining: 2.77s\n",
            "14:\tlearn: 0.3428339\ttotal: 480ms\tremaining: 2.72s\n",
            "15:\tlearn: 0.3426305\ttotal: 513ms\tremaining: 2.69s\n",
            "16:\tlearn: 0.3424984\ttotal: 545ms\tremaining: 2.66s\n",
            "17:\tlearn: 0.3424214\ttotal: 578ms\tremaining: 2.63s\n",
            "18:\tlearn: 0.3420122\ttotal: 609ms\tremaining: 2.6s\n",
            "19:\tlearn: 0.3418629\ttotal: 646ms\tremaining: 2.58s\n",
            "20:\tlearn: 0.3418048\ttotal: 676ms\tremaining: 2.54s\n",
            "21:\tlearn: 0.3416753\ttotal: 710ms\tremaining: 2.52s\n",
            "22:\tlearn: 0.3415320\ttotal: 740ms\tremaining: 2.48s\n",
            "23:\tlearn: 0.3413243\ttotal: 771ms\tremaining: 2.44s\n",
            "24:\tlearn: 0.3411912\ttotal: 809ms\tremaining: 2.42s\n",
            "25:\tlearn: 0.3410323\ttotal: 841ms\tremaining: 2.39s\n",
            "26:\tlearn: 0.3408603\ttotal: 876ms\tremaining: 2.37s\n",
            "27:\tlearn: 0.3407525\ttotal: 906ms\tremaining: 2.33s\n",
            "28:\tlearn: 0.3406715\ttotal: 935ms\tremaining: 2.29s\n",
            "29:\tlearn: 0.3405312\ttotal: 965ms\tremaining: 2.25s\n",
            "30:\tlearn: 0.3404426\ttotal: 995ms\tremaining: 2.21s\n",
            "31:\tlearn: 0.3402724\ttotal: 1.03s\tremaining: 2.18s\n",
            "32:\tlearn: 0.3401700\ttotal: 1.06s\tremaining: 2.15s\n",
            "33:\tlearn: 0.3400942\ttotal: 1.09s\tremaining: 2.12s\n",
            "34:\tlearn: 0.3399378\ttotal: 1.12s\tremaining: 2.09s\n",
            "35:\tlearn: 0.3397185\ttotal: 1.16s\tremaining: 2.06s\n",
            "36:\tlearn: 0.3396526\ttotal: 1.19s\tremaining: 2.02s\n",
            "37:\tlearn: 0.3395567\ttotal: 1.22s\tremaining: 1.98s\n",
            "38:\tlearn: 0.3394938\ttotal: 1.25s\tremaining: 1.95s\n",
            "39:\tlearn: 0.3393339\ttotal: 1.28s\tremaining: 1.92s\n",
            "40:\tlearn: 0.3392742\ttotal: 1.31s\tremaining: 1.89s\n",
            "41:\tlearn: 0.3391436\ttotal: 1.35s\tremaining: 1.87s\n",
            "42:\tlearn: 0.3390712\ttotal: 1.38s\tremaining: 1.83s\n",
            "43:\tlearn: 0.3389433\ttotal: 1.42s\tremaining: 1.8s\n",
            "44:\tlearn: 0.3388630\ttotal: 1.45s\tremaining: 1.77s\n",
            "45:\tlearn: 0.3388316\ttotal: 1.47s\tremaining: 1.73s\n",
            "46:\tlearn: 0.3387661\ttotal: 1.51s\tremaining: 1.71s\n",
            "47:\tlearn: 0.3386568\ttotal: 1.54s\tremaining: 1.67s\n",
            "48:\tlearn: 0.3385286\ttotal: 1.57s\tremaining: 1.64s\n",
            "49:\tlearn: 0.3384583\ttotal: 1.61s\tremaining: 1.61s\n",
            "50:\tlearn: 0.3383273\ttotal: 1.64s\tremaining: 1.57s\n",
            "51:\tlearn: 0.3382499\ttotal: 1.67s\tremaining: 1.54s\n",
            "52:\tlearn: 0.3381685\ttotal: 1.7s\tremaining: 1.51s\n",
            "53:\tlearn: 0.3381484\ttotal: 1.73s\tremaining: 1.48s\n",
            "54:\tlearn: 0.3380283\ttotal: 1.76s\tremaining: 1.44s\n",
            "55:\tlearn: 0.3379584\ttotal: 1.79s\tremaining: 1.41s\n",
            "56:\tlearn: 0.3378348\ttotal: 1.83s\tremaining: 1.38s\n",
            "57:\tlearn: 0.3377565\ttotal: 1.86s\tremaining: 1.35s\n",
            "58:\tlearn: 0.3376638\ttotal: 1.9s\tremaining: 1.32s\n",
            "59:\tlearn: 0.3375980\ttotal: 1.93s\tremaining: 1.29s\n",
            "60:\tlearn: 0.3375130\ttotal: 1.96s\tremaining: 1.25s\n",
            "61:\tlearn: 0.3374044\ttotal: 2s\tremaining: 1.22s\n",
            "62:\tlearn: 0.3373924\ttotal: 2.02s\tremaining: 1.19s\n",
            "63:\tlearn: 0.3373058\ttotal: 2.06s\tremaining: 1.16s\n",
            "64:\tlearn: 0.3372280\ttotal: 2.09s\tremaining: 1.12s\n",
            "65:\tlearn: 0.3371683\ttotal: 2.12s\tremaining: 1.09s\n",
            "66:\tlearn: 0.3370851\ttotal: 2.15s\tremaining: 1.06s\n",
            "67:\tlearn: 0.3369372\ttotal: 2.18s\tremaining: 1.03s\n",
            "68:\tlearn: 0.3368808\ttotal: 2.21s\tremaining: 995ms\n",
            "69:\tlearn: 0.3367826\ttotal: 2.25s\tremaining: 962ms\n",
            "70:\tlearn: 0.3366921\ttotal: 2.27s\tremaining: 929ms\n",
            "71:\tlearn: 0.3365919\ttotal: 2.31s\tremaining: 896ms\n",
            "72:\tlearn: 0.3364775\ttotal: 2.34s\tremaining: 865ms\n",
            "73:\tlearn: 0.3363537\ttotal: 2.37s\tremaining: 834ms\n",
            "74:\tlearn: 0.3362945\ttotal: 2.4s\tremaining: 801ms\n",
            "75:\tlearn: 0.3361972\ttotal: 2.44s\tremaining: 769ms\n",
            "76:\tlearn: 0.3361174\ttotal: 2.47s\tremaining: 738ms\n",
            "77:\tlearn: 0.3360278\ttotal: 2.5s\tremaining: 706ms\n",
            "78:\tlearn: 0.3359646\ttotal: 2.53s\tremaining: 674ms\n",
            "79:\tlearn: 0.3359204\ttotal: 2.56s\tremaining: 641ms\n",
            "80:\tlearn: 0.3358490\ttotal: 2.6s\tremaining: 609ms\n",
            "81:\tlearn: 0.3357755\ttotal: 2.63s\tremaining: 577ms\n",
            "82:\tlearn: 0.3357096\ttotal: 2.66s\tremaining: 544ms\n",
            "83:\tlearn: 0.3356039\ttotal: 2.69s\tremaining: 512ms\n",
            "84:\tlearn: 0.3355404\ttotal: 2.72s\tremaining: 480ms\n",
            "85:\tlearn: 0.3354675\ttotal: 2.75s\tremaining: 447ms\n",
            "86:\tlearn: 0.3354332\ttotal: 2.78s\tremaining: 415ms\n",
            "87:\tlearn: 0.3353857\ttotal: 2.82s\tremaining: 384ms\n",
            "88:\tlearn: 0.3353028\ttotal: 2.85s\tremaining: 352ms\n",
            "89:\tlearn: 0.3352315\ttotal: 2.88s\tremaining: 320ms\n",
            "90:\tlearn: 0.3351515\ttotal: 2.91s\tremaining: 288ms\n",
            "91:\tlearn: 0.3350505\ttotal: 2.94s\tremaining: 256ms\n",
            "92:\tlearn: 0.3350037\ttotal: 2.97s\tremaining: 224ms\n",
            "93:\tlearn: 0.3349048\ttotal: 3.01s\tremaining: 192ms\n",
            "94:\tlearn: 0.3348624\ttotal: 3.04s\tremaining: 160ms\n",
            "95:\tlearn: 0.3347966\ttotal: 3.08s\tremaining: 128ms\n",
            "96:\tlearn: 0.3347316\ttotal: 3.11s\tremaining: 96.1ms\n",
            "97:\tlearn: 0.3346657\ttotal: 3.14s\tremaining: 64.1ms\n",
            "98:\tlearn: 0.3346313\ttotal: 3.17s\tremaining: 32ms\n",
            "99:\tlearn: 0.3345538\ttotal: 3.21s\tremaining: 0us\n",
            "Learning rate set to 0.5\n",
            "0:\tlearn: 0.4833769\ttotal: 29.5ms\tremaining: 2.92s\n",
            "1:\tlearn: 0.4105262\ttotal: 60.4ms\tremaining: 2.96s\n",
            "2:\tlearn: 0.3795563\ttotal: 92.9ms\tremaining: 3s\n",
            "3:\tlearn: 0.3593895\ttotal: 125ms\tremaining: 3s\n",
            "4:\tlearn: 0.3531649\ttotal: 157ms\tremaining: 2.98s\n",
            "5:\tlearn: 0.3502501\ttotal: 199ms\tremaining: 3.12s\n",
            "6:\tlearn: 0.3471575\ttotal: 232ms\tremaining: 3.09s\n",
            "7:\tlearn: 0.3457267\ttotal: 263ms\tremaining: 3.02s\n",
            "8:\tlearn: 0.3448276\ttotal: 294ms\tremaining: 2.97s\n",
            "9:\tlearn: 0.3439252\ttotal: 327ms\tremaining: 2.94s\n",
            "10:\tlearn: 0.3436728\ttotal: 357ms\tremaining: 2.89s\n",
            "11:\tlearn: 0.3434921\ttotal: 387ms\tremaining: 2.84s\n",
            "12:\tlearn: 0.3432599\ttotal: 426ms\tremaining: 2.85s\n",
            "13:\tlearn: 0.3430967\ttotal: 467ms\tremaining: 2.87s\n",
            "14:\tlearn: 0.3429096\ttotal: 502ms\tremaining: 2.84s\n",
            "15:\tlearn: 0.3427720\ttotal: 534ms\tremaining: 2.8s\n",
            "16:\tlearn: 0.3426743\ttotal: 564ms\tremaining: 2.75s\n",
            "17:\tlearn: 0.3422923\ttotal: 596ms\tremaining: 2.71s\n",
            "18:\tlearn: 0.3421074\ttotal: 632ms\tremaining: 2.69s\n",
            "19:\tlearn: 0.3420369\ttotal: 664ms\tremaining: 2.66s\n",
            "20:\tlearn: 0.3419085\ttotal: 696ms\tremaining: 2.62s\n",
            "21:\tlearn: 0.3417425\ttotal: 728ms\tremaining: 2.58s\n",
            "22:\tlearn: 0.3416398\ttotal: 764ms\tremaining: 2.56s\n",
            "23:\tlearn: 0.3414858\ttotal: 794ms\tremaining: 2.52s\n",
            "24:\tlearn: 0.3413950\ttotal: 826ms\tremaining: 2.48s\n",
            "25:\tlearn: 0.3412803\ttotal: 864ms\tremaining: 2.46s\n",
            "26:\tlearn: 0.3411977\ttotal: 893ms\tremaining: 2.41s\n",
            "27:\tlearn: 0.3411223\ttotal: 923ms\tremaining: 2.37s\n",
            "28:\tlearn: 0.3410323\ttotal: 953ms\tremaining: 2.33s\n",
            "29:\tlearn: 0.3409047\ttotal: 985ms\tremaining: 2.3s\n",
            "30:\tlearn: 0.3408348\ttotal: 1.01s\tremaining: 2.26s\n",
            "31:\tlearn: 0.3406643\ttotal: 1.04s\tremaining: 2.22s\n",
            "32:\tlearn: 0.3406020\ttotal: 1.08s\tremaining: 2.19s\n",
            "33:\tlearn: 0.3405546\ttotal: 1.11s\tremaining: 2.15s\n",
            "34:\tlearn: 0.3404638\ttotal: 1.14s\tremaining: 2.11s\n",
            "35:\tlearn: 0.3403852\ttotal: 1.17s\tremaining: 2.08s\n",
            "36:\tlearn: 0.3402860\ttotal: 1.2s\tremaining: 2.04s\n",
            "37:\tlearn: 0.3401403\ttotal: 1.23s\tremaining: 2.01s\n",
            "38:\tlearn: 0.3400199\ttotal: 1.26s\tremaining: 1.98s\n",
            "39:\tlearn: 0.3399568\ttotal: 1.3s\tremaining: 1.94s\n",
            "40:\tlearn: 0.3398485\ttotal: 1.33s\tremaining: 1.91s\n",
            "41:\tlearn: 0.3397612\ttotal: 1.36s\tremaining: 1.88s\n",
            "42:\tlearn: 0.3396737\ttotal: 1.39s\tremaining: 1.84s\n",
            "43:\tlearn: 0.3395778\ttotal: 1.42s\tremaining: 1.81s\n",
            "44:\tlearn: 0.3394981\ttotal: 1.46s\tremaining: 1.78s\n",
            "45:\tlearn: 0.3394204\ttotal: 1.49s\tremaining: 1.75s\n",
            "46:\tlearn: 0.3393564\ttotal: 1.53s\tremaining: 1.72s\n",
            "47:\tlearn: 0.3392126\ttotal: 1.56s\tremaining: 1.69s\n",
            "48:\tlearn: 0.3391553\ttotal: 1.59s\tremaining: 1.65s\n",
            "49:\tlearn: 0.3391069\ttotal: 1.62s\tremaining: 1.62s\n",
            "50:\tlearn: 0.3390057\ttotal: 1.65s\tremaining: 1.58s\n",
            "51:\tlearn: 0.3388903\ttotal: 1.68s\tremaining: 1.55s\n",
            "52:\tlearn: 0.3387819\ttotal: 1.71s\tremaining: 1.52s\n",
            "53:\tlearn: 0.3386415\ttotal: 1.75s\tremaining: 1.49s\n",
            "54:\tlearn: 0.3385804\ttotal: 1.78s\tremaining: 1.46s\n",
            "55:\tlearn: 0.3384903\ttotal: 1.81s\tremaining: 1.42s\n",
            "56:\tlearn: 0.3384021\ttotal: 1.84s\tremaining: 1.39s\n",
            "57:\tlearn: 0.3383126\ttotal: 1.88s\tremaining: 1.36s\n",
            "58:\tlearn: 0.3380784\ttotal: 1.91s\tremaining: 1.32s\n",
            "59:\tlearn: 0.3379888\ttotal: 1.94s\tremaining: 1.29s\n",
            "60:\tlearn: 0.3379125\ttotal: 1.97s\tremaining: 1.26s\n",
            "61:\tlearn: 0.3378118\ttotal: 2.01s\tremaining: 1.23s\n",
            "62:\tlearn: 0.3377423\ttotal: 2.04s\tremaining: 1.2s\n",
            "63:\tlearn: 0.3376888\ttotal: 2.07s\tremaining: 1.16s\n",
            "64:\tlearn: 0.3375987\ttotal: 2.1s\tremaining: 1.13s\n",
            "65:\tlearn: 0.3374929\ttotal: 2.13s\tremaining: 1.1s\n",
            "66:\tlearn: 0.3373871\ttotal: 2.16s\tremaining: 1.06s\n",
            "67:\tlearn: 0.3373110\ttotal: 2.2s\tremaining: 1.03s\n",
            "68:\tlearn: 0.3372004\ttotal: 2.23s\tremaining: 1s\n",
            "69:\tlearn: 0.3370749\ttotal: 2.26s\tremaining: 970ms\n",
            "70:\tlearn: 0.3369370\ttotal: 2.29s\tremaining: 938ms\n",
            "71:\tlearn: 0.3368274\ttotal: 2.33s\tremaining: 905ms\n",
            "72:\tlearn: 0.3367687\ttotal: 2.36s\tremaining: 873ms\n",
            "73:\tlearn: 0.3366820\ttotal: 2.39s\tremaining: 840ms\n",
            "74:\tlearn: 0.3366155\ttotal: 2.42s\tremaining: 808ms\n",
            "75:\tlearn: 0.3365424\ttotal: 2.45s\tremaining: 775ms\n",
            "76:\tlearn: 0.3364455\ttotal: 2.49s\tremaining: 745ms\n",
            "77:\tlearn: 0.3363582\ttotal: 2.52s\tremaining: 712ms\n",
            "78:\tlearn: 0.3363146\ttotal: 2.55s\tremaining: 679ms\n",
            "79:\tlearn: 0.3362287\ttotal: 2.58s\tremaining: 646ms\n",
            "80:\tlearn: 0.3362063\ttotal: 2.61s\tremaining: 613ms\n",
            "81:\tlearn: 0.3361155\ttotal: 2.65s\tremaining: 581ms\n",
            "82:\tlearn: 0.3360505\ttotal: 2.68s\tremaining: 549ms\n",
            "83:\tlearn: 0.3359720\ttotal: 2.71s\tremaining: 516ms\n",
            "84:\tlearn: 0.3359018\ttotal: 2.74s\tremaining: 484ms\n",
            "85:\tlearn: 0.3358051\ttotal: 2.77s\tremaining: 451ms\n",
            "86:\tlearn: 0.3357480\ttotal: 2.8s\tremaining: 419ms\n",
            "87:\tlearn: 0.3357057\ttotal: 2.83s\tremaining: 386ms\n",
            "88:\tlearn: 0.3355981\ttotal: 2.87s\tremaining: 355ms\n",
            "89:\tlearn: 0.3355359\ttotal: 2.9s\tremaining: 322ms\n",
            "90:\tlearn: 0.3354801\ttotal: 2.93s\tremaining: 290ms\n",
            "91:\tlearn: 0.3354595\ttotal: 2.96s\tremaining: 257ms\n",
            "92:\tlearn: 0.3353984\ttotal: 2.99s\tremaining: 225ms\n",
            "93:\tlearn: 0.3353014\ttotal: 3.02s\tremaining: 193ms\n",
            "94:\tlearn: 0.3352683\ttotal: 3.05s\tremaining: 161ms\n",
            "95:\tlearn: 0.3351832\ttotal: 3.09s\tremaining: 129ms\n",
            "96:\tlearn: 0.3351292\ttotal: 3.12s\tremaining: 96.4ms\n",
            "97:\tlearn: 0.3350279\ttotal: 3.15s\tremaining: 64.3ms\n",
            "98:\tlearn: 0.3349761\ttotal: 3.18s\tremaining: 32.1ms\n",
            "99:\tlearn: 0.3348787\ttotal: 3.21s\tremaining: 0us\n",
            "Learning rate set to 0.5\n",
            "0:\tlearn: 0.4787452\ttotal: 32.1ms\tremaining: 3.18s\n",
            "1:\tlearn: 0.4065733\ttotal: 62.8ms\tremaining: 3.08s\n",
            "2:\tlearn: 0.3741290\ttotal: 93.9ms\tremaining: 3.04s\n",
            "3:\tlearn: 0.3613625\ttotal: 125ms\tremaining: 3s\n",
            "4:\tlearn: 0.3552426\ttotal: 163ms\tremaining: 3.1s\n",
            "5:\tlearn: 0.3529975\ttotal: 196ms\tremaining: 3.07s\n",
            "6:\tlearn: 0.3494183\ttotal: 228ms\tremaining: 3.02s\n",
            "7:\tlearn: 0.3462536\ttotal: 260ms\tremaining: 2.98s\n",
            "8:\tlearn: 0.3456185\ttotal: 290ms\tremaining: 2.93s\n",
            "9:\tlearn: 0.3450848\ttotal: 325ms\tremaining: 2.92s\n",
            "10:\tlearn: 0.3446966\ttotal: 356ms\tremaining: 2.88s\n",
            "11:\tlearn: 0.3445169\ttotal: 385ms\tremaining: 2.83s\n",
            "12:\tlearn: 0.3435553\ttotal: 425ms\tremaining: 2.84s\n",
            "13:\tlearn: 0.3435438\ttotal: 448ms\tremaining: 2.75s\n",
            "14:\tlearn: 0.3433130\ttotal: 481ms\tremaining: 2.73s\n",
            "15:\tlearn: 0.3430360\ttotal: 514ms\tremaining: 2.7s\n",
            "16:\tlearn: 0.3425775\ttotal: 545ms\tremaining: 2.66s\n",
            "17:\tlearn: 0.3424365\ttotal: 576ms\tremaining: 2.62s\n",
            "18:\tlearn: 0.3423252\ttotal: 606ms\tremaining: 2.58s\n",
            "19:\tlearn: 0.3422352\ttotal: 641ms\tremaining: 2.56s\n",
            "20:\tlearn: 0.3421908\ttotal: 668ms\tremaining: 2.51s\n",
            "21:\tlearn: 0.3421307\ttotal: 697ms\tremaining: 2.47s\n",
            "22:\tlearn: 0.3419555\ttotal: 728ms\tremaining: 2.44s\n",
            "23:\tlearn: 0.3418127\ttotal: 759ms\tremaining: 2.4s\n",
            "24:\tlearn: 0.3416705\ttotal: 790ms\tremaining: 2.37s\n",
            "25:\tlearn: 0.3416180\ttotal: 819ms\tremaining: 2.33s\n",
            "26:\tlearn: 0.3414366\ttotal: 856ms\tremaining: 2.31s\n",
            "27:\tlearn: 0.3413461\ttotal: 890ms\tremaining: 2.29s\n",
            "28:\tlearn: 0.3412664\ttotal: 919ms\tremaining: 2.25s\n",
            "29:\tlearn: 0.3412209\ttotal: 947ms\tremaining: 2.21s\n",
            "30:\tlearn: 0.3410727\ttotal: 978ms\tremaining: 2.17s\n",
            "31:\tlearn: 0.3409736\ttotal: 1.01s\tremaining: 2.14s\n",
            "32:\tlearn: 0.3408711\ttotal: 1.04s\tremaining: 2.11s\n",
            "33:\tlearn: 0.3407838\ttotal: 1.07s\tremaining: 2.08s\n",
            "34:\tlearn: 0.3407300\ttotal: 1.1s\tremaining: 2.04s\n",
            "35:\tlearn: 0.3406086\ttotal: 1.13s\tremaining: 2.02s\n",
            "36:\tlearn: 0.3405393\ttotal: 1.17s\tremaining: 1.99s\n",
            "37:\tlearn: 0.3404772\ttotal: 1.2s\tremaining: 1.95s\n",
            "38:\tlearn: 0.3403855\ttotal: 1.22s\tremaining: 1.91s\n",
            "39:\tlearn: 0.3402445\ttotal: 1.25s\tremaining: 1.88s\n",
            "40:\tlearn: 0.3402027\ttotal: 1.29s\tremaining: 1.86s\n",
            "41:\tlearn: 0.3401493\ttotal: 1.32s\tremaining: 1.82s\n",
            "42:\tlearn: 0.3399346\ttotal: 1.35s\tremaining: 1.79s\n",
            "43:\tlearn: 0.3398523\ttotal: 1.38s\tremaining: 1.76s\n",
            "44:\tlearn: 0.3397789\ttotal: 1.41s\tremaining: 1.73s\n",
            "45:\tlearn: 0.3397065\ttotal: 1.44s\tremaining: 1.69s\n",
            "46:\tlearn: 0.3395877\ttotal: 1.48s\tremaining: 1.66s\n",
            "47:\tlearn: 0.3395205\ttotal: 1.51s\tremaining: 1.64s\n",
            "48:\tlearn: 0.3394008\ttotal: 1.54s\tremaining: 1.6s\n",
            "49:\tlearn: 0.3393227\ttotal: 1.57s\tremaining: 1.57s\n",
            "50:\tlearn: 0.3392520\ttotal: 1.6s\tremaining: 1.54s\n",
            "51:\tlearn: 0.3392015\ttotal: 1.63s\tremaining: 1.5s\n",
            "52:\tlearn: 0.3391566\ttotal: 1.66s\tremaining: 1.47s\n",
            "53:\tlearn: 0.3391031\ttotal: 1.69s\tremaining: 1.44s\n",
            "54:\tlearn: 0.3389804\ttotal: 1.72s\tremaining: 1.41s\n",
            "55:\tlearn: 0.3388843\ttotal: 1.75s\tremaining: 1.38s\n",
            "56:\tlearn: 0.3386989\ttotal: 1.78s\tremaining: 1.35s\n",
            "57:\tlearn: 0.3385967\ttotal: 1.82s\tremaining: 1.31s\n",
            "58:\tlearn: 0.3385083\ttotal: 1.85s\tremaining: 1.28s\n",
            "59:\tlearn: 0.3384307\ttotal: 1.89s\tremaining: 1.26s\n",
            "60:\tlearn: 0.3383233\ttotal: 1.92s\tremaining: 1.23s\n",
            "61:\tlearn: 0.3382443\ttotal: 1.95s\tremaining: 1.2s\n",
            "62:\tlearn: 0.3381674\ttotal: 1.98s\tremaining: 1.16s\n",
            "63:\tlearn: 0.3381157\ttotal: 2.01s\tremaining: 1.13s\n",
            "64:\tlearn: 0.3380388\ttotal: 2.04s\tremaining: 1.1s\n",
            "65:\tlearn: 0.3379332\ttotal: 2.07s\tremaining: 1.07s\n",
            "66:\tlearn: 0.3378293\ttotal: 2.1s\tremaining: 1.04s\n",
            "67:\tlearn: 0.3377673\ttotal: 2.14s\tremaining: 1.01s\n",
            "68:\tlearn: 0.3377045\ttotal: 2.18s\tremaining: 978ms\n",
            "69:\tlearn: 0.3376574\ttotal: 2.22s\tremaining: 953ms\n",
            "70:\tlearn: 0.3375585\ttotal: 2.25s\tremaining: 921ms\n",
            "71:\tlearn: 0.3374805\ttotal: 2.28s\tremaining: 888ms\n",
            "72:\tlearn: 0.3374344\ttotal: 2.31s\tremaining: 856ms\n",
            "73:\tlearn: 0.3374093\ttotal: 2.34s\tremaining: 823ms\n",
            "74:\tlearn: 0.3373401\ttotal: 2.37s\tremaining: 791ms\n",
            "75:\tlearn: 0.3372891\ttotal: 2.41s\tremaining: 760ms\n",
            "76:\tlearn: 0.3372191\ttotal: 2.44s\tremaining: 728ms\n",
            "77:\tlearn: 0.3371459\ttotal: 2.47s\tremaining: 697ms\n",
            "78:\tlearn: 0.3371133\ttotal: 2.5s\tremaining: 665ms\n",
            "79:\tlearn: 0.3370630\ttotal: 2.53s\tremaining: 633ms\n",
            "80:\tlearn: 0.3370060\ttotal: 2.56s\tremaining: 600ms\n",
            "81:\tlearn: 0.3369070\ttotal: 2.59s\tremaining: 569ms\n",
            "82:\tlearn: 0.3368732\ttotal: 2.62s\tremaining: 537ms\n",
            "83:\tlearn: 0.3368452\ttotal: 2.65s\tremaining: 505ms\n",
            "84:\tlearn: 0.3367455\ttotal: 2.69s\tremaining: 474ms\n",
            "85:\tlearn: 0.3367153\ttotal: 2.72s\tremaining: 442ms\n",
            "86:\tlearn: 0.3366887\ttotal: 2.75s\tremaining: 410ms\n",
            "87:\tlearn: 0.3366336\ttotal: 2.77s\tremaining: 378ms\n",
            "88:\tlearn: 0.3365712\ttotal: 2.8s\tremaining: 347ms\n",
            "89:\tlearn: 0.3365343\ttotal: 2.84s\tremaining: 316ms\n",
            "90:\tlearn: 0.3364687\ttotal: 2.87s\tremaining: 284ms\n",
            "91:\tlearn: 0.3364084\ttotal: 2.9s\tremaining: 252ms\n",
            "92:\tlearn: 0.3363835\ttotal: 2.93s\tremaining: 220ms\n",
            "93:\tlearn: 0.3363709\ttotal: 2.96s\tremaining: 189ms\n",
            "94:\tlearn: 0.3363109\ttotal: 2.99s\tremaining: 157ms\n",
            "95:\tlearn: 0.3362272\ttotal: 3.02s\tremaining: 126ms\n",
            "96:\tlearn: 0.3361722\ttotal: 3.05s\tremaining: 94.4ms\n",
            "97:\tlearn: 0.3361373\ttotal: 3.08s\tremaining: 62.9ms\n",
            "98:\tlearn: 0.3360994\ttotal: 3.11s\tremaining: 31.4ms\n",
            "99:\tlearn: 0.3360231\ttotal: 3.15s\tremaining: 0us\n"
          ],
          "name": "stdout"
        }
      ]
    },
    {
      "cell_type": "code",
      "metadata": {
        "colab": {
          "base_uri": "https://localhost:8080/"
        },
        "id": "Q9ZH7IVKiwXs",
        "outputId": "2819a91b-8eb7-4af1-abf5-7a0522ca3c16"
      },
      "source": [
        "rfe.support_"
      ],
      "execution_count": 61,
      "outputs": [
        {
          "output_type": "execute_result",
          "data": {
            "text/plain": [
              "array([False,  True, False,  True,  True,  True,  True,  True,  True])"
            ]
          },
          "metadata": {
            "tags": []
          },
          "execution_count": 61
        }
      ]
    },
    {
      "cell_type": "code",
      "metadata": {
        "colab": {
          "base_uri": "https://localhost:8080/"
        },
        "id": "At3KQFpWi5BB",
        "outputId": "0d979019-d654-41cb-aaf8-35be9d93e243"
      },
      "source": [
        "# Features that have been selected by RFE\n",
        "list(zip(X_train.columns, rfe.support_, rfe.ranking_))"
      ],
      "execution_count": 62,
      "outputs": [
        {
          "output_type": "execute_result",
          "data": {
            "text/plain": [
              "[('Gender', False, 3),\n",
              " ('Age', True, 1),\n",
              " ('Region_Code', False, 2),\n",
              " ('Occupation', True, 1),\n",
              " ('Channel_Code', True, 1),\n",
              " ('Vintage', True, 1),\n",
              " ('Credit_Product', True, 1),\n",
              " ('Avg_Account_Balance', True, 1),\n",
              " ('Is_Active', True, 1)]"
            ]
          },
          "metadata": {
            "tags": []
          },
          "execution_count": 62
        }
      ]
    },
    {
      "cell_type": "code",
      "metadata": {
        "id": "7Lt0ndCKi6mf"
      },
      "source": [
        "# Put all the columns selected by RFE in the variable 'col'\n",
        "col = X_train.columns[rfe.support_]"
      ],
      "execution_count": 63,
      "outputs": []
    },
    {
      "cell_type": "code",
      "metadata": {
        "id": "KGopWr-5i60C"
      },
      "source": [
        "X_train11 = X_train[col]"
      ],
      "execution_count": 64,
      "outputs": []
    },
    {
      "cell_type": "code",
      "metadata": {
        "colab": {
          "base_uri": "https://localhost:8080/"
        },
        "id": "0m3Q_TN1i7A1",
        "outputId": "f3288f2f-63e7-4446-bda8-32e0a7889db2"
      },
      "source": [
        "#with all features\n",
        "model2 = CatBoostClassifier(iterations=100)\n",
        "\n",
        "# fit the model with the training data\n",
        "model2.fit(X_train11,y_train,plot=False)\n",
        "print('\\n Model Trainied')\n",
        "\n",
        "# predict the target on the train dataset\n",
        "predict_train = model2.predict(X_train11)"
      ],
      "execution_count": 65,
      "outputs": [
        {
          "output_type": "stream",
          "text": [
            "Learning rate set to 0.5\n",
            "0:\tlearn: 0.4787452\ttotal: 33.2ms\tremaining: 3.29s\n",
            "1:\tlearn: 0.4065733\ttotal: 65.5ms\tremaining: 3.21s\n",
            "2:\tlearn: 0.3741290\ttotal: 97.7ms\tremaining: 3.16s\n",
            "3:\tlearn: 0.3613625\ttotal: 130ms\tremaining: 3.11s\n",
            "4:\tlearn: 0.3552426\ttotal: 159ms\tremaining: 3.02s\n",
            "5:\tlearn: 0.3529975\ttotal: 192ms\tremaining: 3.01s\n",
            "6:\tlearn: 0.3494183\ttotal: 224ms\tremaining: 2.97s\n",
            "7:\tlearn: 0.3462536\ttotal: 255ms\tremaining: 2.94s\n",
            "8:\tlearn: 0.3456185\ttotal: 286ms\tremaining: 2.89s\n",
            "9:\tlearn: 0.3450848\ttotal: 316ms\tremaining: 2.84s\n",
            "10:\tlearn: 0.3446966\ttotal: 347ms\tremaining: 2.81s\n",
            "11:\tlearn: 0.3445169\ttotal: 376ms\tremaining: 2.76s\n",
            "12:\tlearn: 0.3435553\ttotal: 411ms\tremaining: 2.75s\n",
            "13:\tlearn: 0.3435438\ttotal: 435ms\tremaining: 2.67s\n",
            "14:\tlearn: 0.3433130\ttotal: 465ms\tremaining: 2.64s\n",
            "15:\tlearn: 0.3430360\ttotal: 496ms\tremaining: 2.6s\n",
            "16:\tlearn: 0.3425775\ttotal: 527ms\tremaining: 2.57s\n",
            "17:\tlearn: 0.3424365\ttotal: 558ms\tremaining: 2.54s\n",
            "18:\tlearn: 0.3423252\ttotal: 588ms\tremaining: 2.51s\n",
            "19:\tlearn: 0.3422352\ttotal: 623ms\tremaining: 2.49s\n",
            "20:\tlearn: 0.3421908\ttotal: 653ms\tremaining: 2.46s\n",
            "21:\tlearn: 0.3421307\ttotal: 682ms\tremaining: 2.42s\n",
            "22:\tlearn: 0.3419555\ttotal: 712ms\tremaining: 2.38s\n",
            "23:\tlearn: 0.3418127\ttotal: 751ms\tremaining: 2.38s\n",
            "24:\tlearn: 0.3416705\ttotal: 782ms\tremaining: 2.35s\n",
            "25:\tlearn: 0.3416180\ttotal: 813ms\tremaining: 2.31s\n",
            "26:\tlearn: 0.3414366\ttotal: 851ms\tremaining: 2.3s\n",
            "27:\tlearn: 0.3413461\ttotal: 881ms\tremaining: 2.27s\n",
            "28:\tlearn: 0.3412664\ttotal: 910ms\tremaining: 2.23s\n",
            "29:\tlearn: 0.3412209\ttotal: 942ms\tremaining: 2.2s\n",
            "30:\tlearn: 0.3410727\ttotal: 974ms\tremaining: 2.17s\n",
            "31:\tlearn: 0.3409736\ttotal: 1s\tremaining: 2.13s\n",
            "32:\tlearn: 0.3408711\ttotal: 1.04s\tremaining: 2.11s\n",
            "33:\tlearn: 0.3407838\ttotal: 1.07s\tremaining: 2.08s\n",
            "34:\tlearn: 0.3407300\ttotal: 1.1s\tremaining: 2.05s\n",
            "35:\tlearn: 0.3406086\ttotal: 1.13s\tremaining: 2.02s\n",
            "36:\tlearn: 0.3405393\ttotal: 1.17s\tremaining: 1.98s\n",
            "37:\tlearn: 0.3404772\ttotal: 1.19s\tremaining: 1.95s\n",
            "38:\tlearn: 0.3403855\ttotal: 1.22s\tremaining: 1.91s\n",
            "39:\tlearn: 0.3402445\ttotal: 1.25s\tremaining: 1.88s\n",
            "40:\tlearn: 0.3402027\ttotal: 1.3s\tremaining: 1.87s\n",
            "41:\tlearn: 0.3401493\ttotal: 1.33s\tremaining: 1.84s\n",
            "42:\tlearn: 0.3399346\ttotal: 1.36s\tremaining: 1.8s\n",
            "43:\tlearn: 0.3398523\ttotal: 1.39s\tremaining: 1.77s\n",
            "44:\tlearn: 0.3397789\ttotal: 1.42s\tremaining: 1.74s\n",
            "45:\tlearn: 0.3397065\ttotal: 1.46s\tremaining: 1.71s\n",
            "46:\tlearn: 0.3395877\ttotal: 1.49s\tremaining: 1.68s\n",
            "47:\tlearn: 0.3395205\ttotal: 1.52s\tremaining: 1.65s\n",
            "48:\tlearn: 0.3394008\ttotal: 1.55s\tremaining: 1.62s\n",
            "49:\tlearn: 0.3393227\ttotal: 1.58s\tremaining: 1.58s\n",
            "50:\tlearn: 0.3392520\ttotal: 1.61s\tremaining: 1.55s\n",
            "51:\tlearn: 0.3392015\ttotal: 1.64s\tremaining: 1.51s\n",
            "52:\tlearn: 0.3391566\ttotal: 1.67s\tremaining: 1.48s\n",
            "53:\tlearn: 0.3391031\ttotal: 1.7s\tremaining: 1.45s\n",
            "54:\tlearn: 0.3389804\ttotal: 1.75s\tremaining: 1.43s\n",
            "55:\tlearn: 0.3388843\ttotal: 1.78s\tremaining: 1.4s\n",
            "56:\tlearn: 0.3386989\ttotal: 1.82s\tremaining: 1.37s\n",
            "57:\tlearn: 0.3385967\ttotal: 1.85s\tremaining: 1.34s\n",
            "58:\tlearn: 0.3385083\ttotal: 1.88s\tremaining: 1.31s\n",
            "59:\tlearn: 0.3384307\ttotal: 1.91s\tremaining: 1.27s\n",
            "60:\tlearn: 0.3383233\ttotal: 1.94s\tremaining: 1.24s\n",
            "61:\tlearn: 0.3382443\ttotal: 1.98s\tremaining: 1.21s\n",
            "62:\tlearn: 0.3381674\ttotal: 2.01s\tremaining: 1.18s\n",
            "63:\tlearn: 0.3381157\ttotal: 2.04s\tremaining: 1.15s\n",
            "64:\tlearn: 0.3380388\ttotal: 2.08s\tremaining: 1.12s\n",
            "65:\tlearn: 0.3379332\ttotal: 2.1s\tremaining: 1.08s\n",
            "66:\tlearn: 0.3378293\ttotal: 2.14s\tremaining: 1.05s\n",
            "67:\tlearn: 0.3377673\ttotal: 2.17s\tremaining: 1.02s\n",
            "68:\tlearn: 0.3377045\ttotal: 2.2s\tremaining: 990ms\n",
            "69:\tlearn: 0.3376574\ttotal: 2.23s\tremaining: 957ms\n",
            "70:\tlearn: 0.3375585\ttotal: 2.26s\tremaining: 924ms\n",
            "71:\tlearn: 0.3374805\ttotal: 2.29s\tremaining: 891ms\n",
            "72:\tlearn: 0.3374344\ttotal: 2.32s\tremaining: 859ms\n",
            "73:\tlearn: 0.3374093\ttotal: 2.35s\tremaining: 826ms\n",
            "74:\tlearn: 0.3373401\ttotal: 2.38s\tremaining: 794ms\n",
            "75:\tlearn: 0.3372891\ttotal: 2.42s\tremaining: 763ms\n",
            "76:\tlearn: 0.3372191\ttotal: 2.45s\tremaining: 731ms\n",
            "77:\tlearn: 0.3371459\ttotal: 2.48s\tremaining: 699ms\n",
            "78:\tlearn: 0.3371133\ttotal: 2.5s\tremaining: 666ms\n",
            "79:\tlearn: 0.3370630\ttotal: 2.54s\tremaining: 634ms\n",
            "80:\tlearn: 0.3370060\ttotal: 2.56s\tremaining: 602ms\n",
            "81:\tlearn: 0.3369070\ttotal: 2.6s\tremaining: 570ms\n",
            "82:\tlearn: 0.3368732\ttotal: 2.63s\tremaining: 539ms\n",
            "83:\tlearn: 0.3368452\ttotal: 2.66s\tremaining: 507ms\n",
            "84:\tlearn: 0.3367455\ttotal: 2.7s\tremaining: 476ms\n",
            "85:\tlearn: 0.3367153\ttotal: 2.73s\tremaining: 444ms\n",
            "86:\tlearn: 0.3366887\ttotal: 2.76s\tremaining: 413ms\n",
            "87:\tlearn: 0.3366336\ttotal: 2.79s\tremaining: 381ms\n",
            "88:\tlearn: 0.3365712\ttotal: 2.82s\tremaining: 349ms\n",
            "89:\tlearn: 0.3365343\ttotal: 2.86s\tremaining: 318ms\n",
            "90:\tlearn: 0.3364687\ttotal: 2.89s\tremaining: 286ms\n",
            "91:\tlearn: 0.3364084\ttotal: 2.92s\tremaining: 254ms\n",
            "92:\tlearn: 0.3363835\ttotal: 2.96s\tremaining: 223ms\n",
            "93:\tlearn: 0.3363709\ttotal: 2.99s\tremaining: 191ms\n",
            "94:\tlearn: 0.3363109\ttotal: 3.02s\tremaining: 159ms\n",
            "95:\tlearn: 0.3362272\ttotal: 3.05s\tremaining: 127ms\n",
            "96:\tlearn: 0.3361722\ttotal: 3.09s\tremaining: 95.5ms\n",
            "97:\tlearn: 0.3361373\ttotal: 3.12s\tremaining: 63.6ms\n",
            "98:\tlearn: 0.3360994\ttotal: 3.14s\tremaining: 31.8ms\n",
            "99:\tlearn: 0.3360231\ttotal: 3.17s\tremaining: 0us\n",
            "\n",
            " Model Trainied\n"
          ],
          "name": "stdout"
        }
      ]
    },
    {
      "cell_type": "code",
      "metadata": {
        "id": "ctmNtnW0jOcb"
      },
      "source": [
        "X_test11 = X_test[col]"
      ],
      "execution_count": 66,
      "outputs": []
    },
    {
      "cell_type": "code",
      "metadata": {
        "id": "4LzSWhwRi7SA",
        "colab": {
          "base_uri": "https://localhost:8080/"
        },
        "outputId": "07bcd5e6-b3ac-4dcf-9754-06696e59ed36"
      },
      "source": [
        "y_pred11 = model2.predict(X_test11)\n",
        "auc = roc_auc_score(y_test, y_pred11)\n",
        "auc"
      ],
      "execution_count": 67,
      "outputs": [
        {
          "output_type": "execute_result",
          "data": {
            "text/plain": [
              "0.7512887445265599"
            ]
          },
          "metadata": {
            "tags": []
          },
          "execution_count": 67
        }
      ]
    },
    {
      "cell_type": "markdown",
      "metadata": {
        "id": "HE6WJHen6MbG"
      },
      "source": [
        "Improved AUC from 69 to 75"
      ]
    },
    {
      "cell_type": "markdown",
      "metadata": {
        "id": "TVa2ZdRBFb_o"
      },
      "source": [
        "#  7.Model Building: ANN Classification"
      ]
    },
    {
      "cell_type": "code",
      "metadata": {
        "id": "-Og657Csk4vL"
      },
      "source": [
        "#converting to scaler\n",
        "from sklearn.preprocessing import StandardScaler\n",
        "sc = StandardScaler()\n",
        "X_train = sc.fit_transform(X_train)\n",
        "X_test = sc.transform(X_test)"
      ],
      "execution_count": 68,
      "outputs": []
    },
    {
      "cell_type": "code",
      "metadata": {
        "id": "LA-XyDhlk4zH"
      },
      "source": [
        "from keras.models import Sequential\n",
        "classifier = Sequential()"
      ],
      "execution_count": 69,
      "outputs": []
    },
    {
      "cell_type": "code",
      "metadata": {
        "id": "EQqelyzhlxus"
      },
      "source": [
        "from keras.models import Sequential\n",
        "from keras.layers import Dense\n",
        "from keras.wrappers.scikit_learn import KerasClassifier\n",
        "from sklearn.model_selection import cross_val_score\n",
        "from sklearn.preprocessing import LabelEncoder\n",
        "from sklearn.model_selection import StratifiedKFold\n",
        "from sklearn.preprocessing import StandardScaler\n",
        "from sklearn.pipeline import Pipeline"
      ],
      "execution_count": 70,
      "outputs": []
    },
    {
      "cell_type": "code",
      "metadata": {
        "colab": {
          "base_uri": "https://localhost:8080/"
        },
        "id": "d3sd5SUSk43D",
        "outputId": "fbfd5304-ad22-4a4d-b4e3-04407dbb513c"
      },
      "source": [
        "#Initializing Neural Network\n",
        "from keras.models import Sequential\n",
        "from keras.layers import Activation, Dense, Dropout\n",
        "from keras import optimizers\n",
        "Model = Sequential()\n",
        "Model.add(Dense(64, kernel_initializer = 'uniform', activation = 'relu', input_dim = 9))\n",
        "# Adding the second hidden layer\n",
        "Model.add(Dense(48, kernel_initializer = 'uniform', activation = 'relu'))\n",
        "Model.add(Dense(48, kernel_initializer = 'uniform', activation = 'relu'))\n",
        "Model.add(Dense(48, kernel_initializer = 'uniform', activation = 'relu'))\n",
        "Model.add(Dense(32, kernel_initializer = 'uniform', activation = 'tanh'))\n",
        "Model.add(Dense(32, kernel_initializer = 'uniform', activation = 'relu'))\n",
        "Model.add(Dropout(0.2))\n",
        "# Adding the output layer\n",
        "Model.add(Dense(1, kernel_initializer = 'uniform', activation = 'sigmoid'))\n",
        "# Compiling Neural Network\n",
        "Model.compile(optimizer = 'adam', loss = 'binary_crossentropy', metrics = ['AUC'],)\n",
        "#fitting the neural Network\n",
        "Model.fit(X_train, y_train, batch_size =48, epochs = 30)"
      ],
      "execution_count": 71,
      "outputs": [
        {
          "output_type": "stream",
          "text": [
            "Epoch 1/30\n",
            "3584/3584 [==============================] - 23s 2ms/step - loss: 0.4000 - auc: 0.8232\n",
            "Epoch 2/30\n",
            "3584/3584 [==============================] - 7s 2ms/step - loss: 0.3631 - auc: 0.8579\n",
            "Epoch 3/30\n",
            "3584/3584 [==============================] - 7s 2ms/step - loss: 0.3553 - auc: 0.8625\n",
            "Epoch 4/30\n",
            "3584/3584 [==============================] - 7s 2ms/step - loss: 0.3498 - auc: 0.8676\n",
            "Epoch 5/30\n",
            "3584/3584 [==============================] - 7s 2ms/step - loss: 0.3471 - auc: 0.8681\n",
            "Epoch 6/30\n",
            "3584/3584 [==============================] - 7s 2ms/step - loss: 0.3500 - auc: 0.8654\n",
            "Epoch 7/30\n",
            "3584/3584 [==============================] - 7s 2ms/step - loss: 0.3508 - auc: 0.8671\n",
            "Epoch 8/30\n",
            "3584/3584 [==============================] - 7s 2ms/step - loss: 0.3476 - auc: 0.8693\n",
            "Epoch 9/30\n",
            "3584/3584 [==============================] - 7s 2ms/step - loss: 0.3484 - auc: 0.8686\n",
            "Epoch 10/30\n",
            "3584/3584 [==============================] - 7s 2ms/step - loss: 0.3467 - auc: 0.8706\n",
            "Epoch 11/30\n",
            "3584/3584 [==============================] - 7s 2ms/step - loss: 0.3441 - auc: 0.8713\n",
            "Epoch 12/30\n",
            "3584/3584 [==============================] - 8s 2ms/step - loss: 0.3445 - auc: 0.8727\n",
            "Epoch 13/30\n",
            "3584/3584 [==============================] - 8s 2ms/step - loss: 0.3456 - auc: 0.8707\n",
            "Epoch 14/30\n",
            "3584/3584 [==============================] - 8s 2ms/step - loss: 0.3450 - auc: 0.8719\n",
            "Epoch 15/30\n",
            "3584/3584 [==============================] - 7s 2ms/step - loss: 0.3436 - auc: 0.8715\n",
            "Epoch 16/30\n",
            "3584/3584 [==============================] - 7s 2ms/step - loss: 0.3460 - auc: 0.8720\n",
            "Epoch 17/30\n",
            "3584/3584 [==============================] - 7s 2ms/step - loss: 0.3468 - auc: 0.8706\n",
            "Epoch 18/30\n",
            "3584/3584 [==============================] - 7s 2ms/step - loss: 0.3437 - auc: 0.8728\n",
            "Epoch 19/30\n",
            "3584/3584 [==============================] - 7s 2ms/step - loss: 0.3466 - auc: 0.8717\n",
            "Epoch 20/30\n",
            "3584/3584 [==============================] - 8s 2ms/step - loss: 0.3434 - auc: 0.8730\n",
            "Epoch 21/30\n",
            "3584/3584 [==============================] - 7s 2ms/step - loss: 0.3465 - auc: 0.8692\n",
            "Epoch 22/30\n",
            "3584/3584 [==============================] - 7s 2ms/step - loss: 0.3445 - auc: 0.8726\n",
            "Epoch 23/30\n",
            "3584/3584 [==============================] - 7s 2ms/step - loss: 0.3439 - auc: 0.8728\n",
            "Epoch 24/30\n",
            "3584/3584 [==============================] - 7s 2ms/step - loss: 0.3455 - auc: 0.8717\n",
            "Epoch 25/30\n",
            "3584/3584 [==============================] - 7s 2ms/step - loss: 0.3459 - auc: 0.8713\n",
            "Epoch 26/30\n",
            "3584/3584 [==============================] - 7s 2ms/step - loss: 0.3402 - auc: 0.8763\n",
            "Epoch 27/30\n",
            "3584/3584 [==============================] - 7s 2ms/step - loss: 0.3461 - auc: 0.8711\n",
            "Epoch 28/30\n",
            "3584/3584 [==============================] - 7s 2ms/step - loss: 0.3439 - auc: 0.8729\n",
            "Epoch 29/30\n",
            "3584/3584 [==============================] - 7s 2ms/step - loss: 0.3432 - auc: 0.8737\n",
            "Epoch 30/30\n",
            "3584/3584 [==============================] - 7s 2ms/step - loss: 0.3442 - auc: 0.8729\n"
          ],
          "name": "stdout"
        },
        {
          "output_type": "execute_result",
          "data": {
            "text/plain": [
              "<keras.callbacks.History at 0x7fc24d8f0ad0>"
            ]
          },
          "metadata": {
            "tags": []
          },
          "execution_count": 71
        }
      ]
    },
    {
      "cell_type": "markdown",
      "metadata": {
        "id": "SYw69wbS09M7"
      },
      "source": [
        "**Getting AUC** "
      ]
    },
    {
      "cell_type": "code",
      "metadata": {
        "colab": {
          "base_uri": "https://localhost:8080/"
        },
        "id": "JIGfw1DmnQk6",
        "outputId": "5b30e96d-da74-45ed-a20b-4b362548d3dd"
      },
      "source": [
        "Y_prediction=Model.predict(X_test)\n",
        "# Area Under Curve\n",
        "auc = roc_auc_score(y_test, Y_prediction)\n",
        "auc"
      ],
      "execution_count": 72,
      "outputs": [
        {
          "output_type": "execute_result",
          "data": {
            "text/plain": [
              "0.8713652724144249"
            ]
          },
          "metadata": {
            "tags": []
          },
          "execution_count": 72
        }
      ]
    },
    {
      "cell_type": "markdown",
      "metadata": {
        "id": "0co47nZT7-sI"
      },
      "source": [
        "# **Got final AUC:0.8721**"
      ]
    },
    {
      "cell_type": "markdown",
      "metadata": {
        "id": "ibAgnM_t7dP0"
      },
      "source": [
        "\n",
        "\n",
        "1.   Got the testing data ID in ID column\n",
        "2.   Dropped ID from testing data to do after preprocessing i.e. converting to Scaler\n",
        "\n"
      ]
    },
    {
      "cell_type": "code",
      "metadata": {
        "id": "6KEYxBWz7d-W"
      },
      "source": [
        "ID = gg['ID']\n",
        "gg.drop(['ID'], axis =1, inplace =True)"
      ],
      "execution_count": 73,
      "outputs": []
    },
    {
      "cell_type": "markdown",
      "metadata": {
        "id": "xRyoZ-9W7PSf"
      },
      "source": [
        "Converting to Scaler the testing data"
      ]
    },
    {
      "cell_type": "code",
      "metadata": {
        "id": "5u_jyibM0UFl"
      },
      "source": [
        "from sklearn.preprocessing import StandardScaler\n",
        "sc = StandardScaler()\n",
        "X_train55 = sc.fit_transform(gg)"
      ],
      "execution_count": 74,
      "outputs": []
    },
    {
      "cell_type": "code",
      "metadata": {
        "colab": {
          "base_uri": "https://localhost:8080/"
        },
        "id": "lxRLcGeP1CSd",
        "outputId": "99c41f44-3e65-42d1-906e-32705a388ac8"
      },
      "source": [
        "X_train55"
      ],
      "execution_count": 75,
      "outputs": [
        {
          "output_type": "execute_result",
          "data": {
            "text/plain": [
              "array([[ 0.90829868, -0.99987782, -1.45176439, ...,  0.06952535,\n",
              "        -0.45614794, -0.80668205],\n",
              "       [ 0.90829868, -0.05856336, -0.16779796, ...,  2.61183556,\n",
              "         0.0167183 , -0.80668205],\n",
              "       [ 0.90829868, -0.86540432,  0.01562582, ..., -0.56605221,\n",
              "        -1.68362001, -0.80668205],\n",
              "       ...,\n",
              "       [ 0.90829868, -0.59645734, -1.45176439, ..., -0.56605221,\n",
              "         1.20130207, -0.80668205],\n",
              "       [ 0.90829868,  0.6138041 , -1.45176439, ..., -0.56605221,\n",
              "        -0.47010945,  1.23964578],\n",
              "       [ 0.90829868, -1.13435131, -1.26834061, ..., -0.56605221,\n",
              "        -0.8903691 , -0.80668205]])"
            ]
          },
          "metadata": {
            "tags": []
          },
          "execution_count": 75
        }
      ]
    },
    {
      "cell_type": "markdown",
      "metadata": {
        "id": "NefCqGc98OR_"
      },
      "source": [
        "Generating the submission file"
      ]
    },
    {
      "cell_type": "code",
      "metadata": {
        "id": "tskit0oMnQvu"
      },
      "source": [
        "y_pred = Model.predict(X_train55)\n",
        "y_pred = (y_pred > 0.25)\n",
        "submission_df = pd.DataFrame({'ID': ID,'Is_Lead': y_pred.flatten().astype(int),\n",
        "})\n",
        "submission_df.set_index('ID', inplace=True)\n",
        "submission_df.to_csv('final_submission.csv')"
      ],
      "execution_count": 76,
      "outputs": []
    }
  ]
}